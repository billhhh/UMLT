{
  "cells": [
    {
      "cell_type": "markdown",
      "metadata": {
        "id": "nNR92MpS3hUU"
      },
      "source": [
        "# Workshop 3\n",
        "\n",
        "Starter code for workshop 3. You should have seen most of it before, but make sure you understand what it is doing!\n",
        "\n",
        "PS: Modified by Hu Wang"
      ]
    },
    {
      "cell_type": "code",
      "execution_count": null,
      "metadata": {
        "id": "GOMWgERD3hUY"
      },
      "outputs": [],
      "source": [
        "# Python ≥3.5 is required\n",
        "import sys\n",
        "assert sys.version_info >= (3, 5)\n",
        "\n",
        "# Scikit-Learn ≥0.20 is required\n",
        "import sklearn\n",
        "assert sklearn.__version__ >= \"0.20\"\n",
        "\n",
        "# Common imports\n",
        "import numpy as np\n",
        "import os\n",
        "\n",
        "# To plot pretty figures\n",
        "%matplotlib inline\n",
        "import matplotlib as mpl\n",
        "import matplotlib.pyplot as plt\n",
        "mpl.rc('axes', labelsize=14)\n",
        "mpl.rc('xtick', labelsize=12)\n",
        "mpl.rc('ytick', labelsize=12)"
      ]
    },
    {
      "cell_type": "code",
      "execution_count": null,
      "metadata": {
        "colab": {
          "base_uri": "https://localhost:8080/",
          "height": 204
        },
        "id": "jK-TTEZW3hUa",
        "outputId": "4aa6b5ea-a2e1-4164-c3cc-29e8d623c144"
      },
      "outputs": [
        {
          "output_type": "execute_result",
          "data": {
            "text/plain": [
              "   longitude  latitude  housing_median_age  total_rooms  total_bedrooms  \\\n",
              "0    -122.23     37.88                  41          880           129.0   \n",
              "1    -122.22     37.86                  21         7099          1106.0   \n",
              "2    -122.24     37.85                  52         1467           190.0   \n",
              "3    -122.25     37.85                  52         1274           235.0   \n",
              "4    -122.25     37.85                  52         1627           280.0   \n",
              "\n",
              "   population  households  median_income  median_house_value  \n",
              "0         322         126         8.3252              452600  \n",
              "1        2401        1138         8.3014              358500  \n",
              "2         496         177         7.2574              352100  \n",
              "3         558         219         5.6431              341300  \n",
              "4         565         259         3.8462              342200  "
            ],
            "text/html": [
              "\n",
              "  <div id=\"df-9a290793-7134-4f37-9ad5-f500f62063a7\">\n",
              "    <div class=\"colab-df-container\">\n",
              "      <div>\n",
              "<style scoped>\n",
              "    .dataframe tbody tr th:only-of-type {\n",
              "        vertical-align: middle;\n",
              "    }\n",
              "\n",
              "    .dataframe tbody tr th {\n",
              "        vertical-align: top;\n",
              "    }\n",
              "\n",
              "    .dataframe thead th {\n",
              "        text-align: right;\n",
              "    }\n",
              "</style>\n",
              "<table border=\"1\" class=\"dataframe\">\n",
              "  <thead>\n",
              "    <tr style=\"text-align: right;\">\n",
              "      <th></th>\n",
              "      <th>longitude</th>\n",
              "      <th>latitude</th>\n",
              "      <th>housing_median_age</th>\n",
              "      <th>total_rooms</th>\n",
              "      <th>total_bedrooms</th>\n",
              "      <th>population</th>\n",
              "      <th>households</th>\n",
              "      <th>median_income</th>\n",
              "      <th>median_house_value</th>\n",
              "    </tr>\n",
              "  </thead>\n",
              "  <tbody>\n",
              "    <tr>\n",
              "      <th>0</th>\n",
              "      <td>-122.23</td>\n",
              "      <td>37.88</td>\n",
              "      <td>41</td>\n",
              "      <td>880</td>\n",
              "      <td>129.0</td>\n",
              "      <td>322</td>\n",
              "      <td>126</td>\n",
              "      <td>8.3252</td>\n",
              "      <td>452600</td>\n",
              "    </tr>\n",
              "    <tr>\n",
              "      <th>1</th>\n",
              "      <td>-122.22</td>\n",
              "      <td>37.86</td>\n",
              "      <td>21</td>\n",
              "      <td>7099</td>\n",
              "      <td>1106.0</td>\n",
              "      <td>2401</td>\n",
              "      <td>1138</td>\n",
              "      <td>8.3014</td>\n",
              "      <td>358500</td>\n",
              "    </tr>\n",
              "    <tr>\n",
              "      <th>2</th>\n",
              "      <td>-122.24</td>\n",
              "      <td>37.85</td>\n",
              "      <td>52</td>\n",
              "      <td>1467</td>\n",
              "      <td>190.0</td>\n",
              "      <td>496</td>\n",
              "      <td>177</td>\n",
              "      <td>7.2574</td>\n",
              "      <td>352100</td>\n",
              "    </tr>\n",
              "    <tr>\n",
              "      <th>3</th>\n",
              "      <td>-122.25</td>\n",
              "      <td>37.85</td>\n",
              "      <td>52</td>\n",
              "      <td>1274</td>\n",
              "      <td>235.0</td>\n",
              "      <td>558</td>\n",
              "      <td>219</td>\n",
              "      <td>5.6431</td>\n",
              "      <td>341300</td>\n",
              "    </tr>\n",
              "    <tr>\n",
              "      <th>4</th>\n",
              "      <td>-122.25</td>\n",
              "      <td>37.85</td>\n",
              "      <td>52</td>\n",
              "      <td>1627</td>\n",
              "      <td>280.0</td>\n",
              "      <td>565</td>\n",
              "      <td>259</td>\n",
              "      <td>3.8462</td>\n",
              "      <td>342200</td>\n",
              "    </tr>\n",
              "  </tbody>\n",
              "</table>\n",
              "</div>\n",
              "      <button class=\"colab-df-convert\" onclick=\"convertToInteractive('df-9a290793-7134-4f37-9ad5-f500f62063a7')\"\n",
              "              title=\"Convert this dataframe to an interactive table.\"\n",
              "              style=\"display:none;\">\n",
              "        \n",
              "  <svg xmlns=\"http://www.w3.org/2000/svg\" height=\"24px\"viewBox=\"0 0 24 24\"\n",
              "       width=\"24px\">\n",
              "    <path d=\"M0 0h24v24H0V0z\" fill=\"none\"/>\n",
              "    <path d=\"M18.56 5.44l.94 2.06.94-2.06 2.06-.94-2.06-.94-.94-2.06-.94 2.06-2.06.94zm-11 1L8.5 8.5l.94-2.06 2.06-.94-2.06-.94L8.5 2.5l-.94 2.06-2.06.94zm10 10l.94 2.06.94-2.06 2.06-.94-2.06-.94-.94-2.06-.94 2.06-2.06.94z\"/><path d=\"M17.41 7.96l-1.37-1.37c-.4-.4-.92-.59-1.43-.59-.52 0-1.04.2-1.43.59L10.3 9.45l-7.72 7.72c-.78.78-.78 2.05 0 2.83L4 21.41c.39.39.9.59 1.41.59.51 0 1.02-.2 1.41-.59l7.78-7.78 2.81-2.81c.8-.78.8-2.07 0-2.86zM5.41 20L4 18.59l7.72-7.72 1.47 1.35L5.41 20z\"/>\n",
              "  </svg>\n",
              "      </button>\n",
              "      \n",
              "  <style>\n",
              "    .colab-df-container {\n",
              "      display:flex;\n",
              "      flex-wrap:wrap;\n",
              "      gap: 12px;\n",
              "    }\n",
              "\n",
              "    .colab-df-convert {\n",
              "      background-color: #E8F0FE;\n",
              "      border: none;\n",
              "      border-radius: 50%;\n",
              "      cursor: pointer;\n",
              "      display: none;\n",
              "      fill: #1967D2;\n",
              "      height: 32px;\n",
              "      padding: 0 0 0 0;\n",
              "      width: 32px;\n",
              "    }\n",
              "\n",
              "    .colab-df-convert:hover {\n",
              "      background-color: #E2EBFA;\n",
              "      box-shadow: 0px 1px 2px rgba(60, 64, 67, 0.3), 0px 1px 3px 1px rgba(60, 64, 67, 0.15);\n",
              "      fill: #174EA6;\n",
              "    }\n",
              "\n",
              "    [theme=dark] .colab-df-convert {\n",
              "      background-color: #3B4455;\n",
              "      fill: #D2E3FC;\n",
              "    }\n",
              "\n",
              "    [theme=dark] .colab-df-convert:hover {\n",
              "      background-color: #434B5C;\n",
              "      box-shadow: 0px 1px 3px 1px rgba(0, 0, 0, 0.15);\n",
              "      filter: drop-shadow(0px 1px 2px rgba(0, 0, 0, 0.3));\n",
              "      fill: #FFFFFF;\n",
              "    }\n",
              "  </style>\n",
              "\n",
              "      <script>\n",
              "        const buttonEl =\n",
              "          document.querySelector('#df-9a290793-7134-4f37-9ad5-f500f62063a7 button.colab-df-convert');\n",
              "        buttonEl.style.display =\n",
              "          google.colab.kernel.accessAllowed ? 'block' : 'none';\n",
              "\n",
              "        async function convertToInteractive(key) {\n",
              "          const element = document.querySelector('#df-9a290793-7134-4f37-9ad5-f500f62063a7');\n",
              "          const dataTable =\n",
              "            await google.colab.kernel.invokeFunction('convertToInteractive',\n",
              "                                                     [key], {});\n",
              "          if (!dataTable) return;\n",
              "\n",
              "          const docLinkHtml = 'Like what you see? Visit the ' +\n",
              "            '<a target=\"_blank\" href=https://colab.research.google.com/notebooks/data_table.ipynb>data table notebook</a>'\n",
              "            + ' to learn more about interactive tables.';\n",
              "          element.innerHTML = '';\n",
              "          dataTable['output_type'] = 'display_data';\n",
              "          await google.colab.output.renderOutput(dataTable, element);\n",
              "          const docLink = document.createElement('div');\n",
              "          docLink.innerHTML = docLinkHtml;\n",
              "          element.appendChild(docLink);\n",
              "        }\n",
              "      </script>\n",
              "    </div>\n",
              "  </div>\n",
              "  "
            ]
          },
          "metadata": {},
          "execution_count": 64
        }
      ],
      "source": [
        "import pandas as pd\n",
        "\n",
        "housing = pd.read_csv(\"workshop3.csv\")\n",
        "housing.head()"
      ]
    },
    {
      "cell_type": "markdown",
      "metadata": {
        "id": "Q9epnyvB3hUb"
      },
      "source": [
        "Split the available data 80/20 for training and testing. Don't use the test data until the very end!"
      ]
    },
    {
      "cell_type": "code",
      "execution_count": null,
      "metadata": {
        "id": "iolYCePX3hUc"
      },
      "outputs": [],
      "source": [
        "from sklearn.model_selection import train_test_split\n",
        "\n",
        "train_set, test_set = train_test_split(housing, test_size=0.2, random_state=42)"
      ]
    },
    {
      "cell_type": "markdown",
      "metadata": {
        "id": "Z04Dj4cA3hUc"
      },
      "source": [
        "median_house_value is the value we want to predict, so separate it from the other features."
      ]
    },
    {
      "cell_type": "code",
      "execution_count": null,
      "metadata": {
        "id": "ett0XACZ3hUc"
      },
      "outputs": [],
      "source": [
        "X_train = train_set.drop([\"median_house_value\"], axis=1)\n",
        "y_train = train_set[\"median_house_value\"].copy()\n",
        "X_test = test_set.drop([\"median_house_value\"], axis=1)\n",
        "y_test = test_set[\"median_house_value\"].copy()"
      ]
    },
    {
      "cell_type": "markdown",
      "metadata": {
        "id": "wANGWHO-3hUd"
      },
      "source": [
        "Your code starts here..."
      ]
    },
    {
      "cell_type": "code",
      "execution_count": null,
      "metadata": {
        "id": "VkrcEd2a3hUe"
      },
      "outputs": [],
      "source": [
        "from sklearn.pipeline import Pipeline\n",
        "from sklearn.linear_model import LinearRegression\n",
        "from sklearn.preprocessing import StandardScaler\n",
        "from sklearn.impute import SimpleImputer\n",
        "\n",
        "lr_pl = Pipeline([ ('imputer', SimpleImputer(strategy=\"median\")), \n",
        "                        ('std_scaler', StandardScaler()), ('lr',LinearRegression()) ])\n",
        "lr_pl.fit(X_train,y_train)\n",
        "y_pred = lr_pl.predict(X_train)"
      ]
    },
    {
      "cell_type": "code",
      "execution_count": null,
      "metadata": {
        "colab": {
          "base_uri": "https://localhost:8080/",
          "height": 285
        },
        "id": "-b2TtC9s3hUf",
        "outputId": "70268ed5-1434-4b00-bee1-841078068103"
      },
      "outputs": [
        {
          "output_type": "execute_result",
          "data": {
            "text/plain": [
              "[<matplotlib.lines.Line2D at 0x7f74a69a4890>]"
            ]
          },
          "metadata": {},
          "execution_count": 6
        },
        {
          "output_type": "display_data",
          "data": {
            "text/plain": [
              "<Figure size 432x288 with 1 Axes>"
            ],
            "image/png": "[encoded data removed]"
          },
          "metadata": {
            "needs_background": "light"
          }
        }
      ],
      "source": [
        "plt.scatter(y_train,y_pred)\n",
        "plt.plot(y_train,y_train,'r-o')"
      ]
    },
    {
      "cell_type": "code",
      "execution_count": null,
      "metadata": {
        "colab": {
          "base_uri": "https://localhost:8080/"
        },
        "id": "Ya8nNI1N3hUf",
        "outputId": "63c05676-83af-4a1e-fcd0-dd34845f3dbb"
      },
      "outputs": [
        {
          "output_type": "stream",
          "name": "stdout",
          "text": [
            "69411.6554100667\n"
          ]
        }
      ],
      "source": [
        "from sklearn.metrics import mean_squared_error\n",
        "\n",
        "rmse_lr = np.sqrt(mean_squared_error(y_pred,y_train))  # RMSE\n",
        "print(rmse_lr)"
      ]
    },
    {
      "cell_type": "code",
      "execution_count": null,
      "metadata": {
        "colab": {
          "base_uri": "https://localhost:8080/"
        },
        "id": "SnZmMMLM3hUg",
        "outputId": "9d018ba7-9c5e-4374-be5e-cef63c1d9a1e"
      },
      "outputs": [
        {
          "output_type": "stream",
          "name": "stdout",
          "text": [
            "50024.5694885547\n"
          ]
        }
      ],
      "source": [
        "from sklearn.neighbors import KNeighborsRegressor\n",
        "\n",
        "knn_pl = Pipeline([ ('imputer', SimpleImputer(strategy=\"median\")), \n",
        "                        ('std_scaler', StandardScaler()), ('kr',KNeighborsRegressor()) ])\n",
        "knn_pl.fit(X_train,y_train)\n",
        "y_pred = knn_pl.predict(X_train)\n",
        "rmse_knn = np.sqrt(mean_squared_error(y_pred,y_train))\n",
        "print(rmse_knn)"
      ]
    },
    {
      "cell_type": "code",
      "execution_count": null,
      "metadata": {
        "colab": {
          "base_uri": "https://localhost:8080/"
        },
        "id": "a8sYk_fp3hUg",
        "outputId": "d3087687-f9f8-4504-c5ed-9f323ff8f0fc"
      },
      "outputs": [
        {
          "output_type": "stream",
          "name": "stdout",
          "text": [
            "RMSE for KNN with k=3 and w=uniform is 44946.482457374426\n",
            "RMSE for KNN with k=3 and w=distance is 0.0\n",
            "RMSE for KNN with k=4 and w=uniform is 48109.20195609117\n",
            "RMSE for KNN with k=4 and w=distance is 0.0\n",
            "RMSE for KNN with k=5 and w=uniform is 50024.5694885547\n",
            "RMSE for KNN with k=5 and w=distance is 0.0\n",
            "RMSE for KNN with k=6 and w=uniform is 51495.80610558386\n",
            "RMSE for KNN with k=6 and w=distance is 0.0\n",
            "RMSE for KNN with k=7 and w=uniform is 52731.459848586375\n",
            "RMSE for KNN with k=7 and w=distance is 0.0\n",
            "RMSE for KNN with k=8 and w=uniform is 53701.107545337065\n",
            "RMSE for KNN with k=8 and w=distance is 0.0\n",
            "RMSE for KNN with k=9 and w=uniform is 54427.59277615538\n",
            "RMSE for KNN with k=9 and w=distance is 0.0\n",
            "RMSE for KNN with k=10 and w=uniform is 55141.09845299509\n",
            "RMSE for KNN with k=10 and w=distance is 0.0\n",
            "RMSE for KNN with k=11 and w=uniform is 55654.61354701113\n",
            "RMSE for KNN with k=11 and w=distance is 0.0\n",
            "RMSE for KNN with k=12 and w=uniform is 56127.884542680054\n",
            "RMSE for KNN with k=12 and w=distance is 0.0\n",
            "RMSE for KNN with k=13 and w=uniform is 56576.614002452414\n",
            "RMSE for KNN with k=13 and w=distance is 0.0\n",
            "RMSE for KNN with k=14 and w=uniform is 57005.17953204106\n",
            "RMSE for KNN with k=14 and w=distance is 0.0\n",
            "RMSE for KNN with k=15 and w=uniform is 57326.44193521339\n",
            "RMSE for KNN with k=15 and w=distance is 0.0\n",
            "RMSE for KNN with k=16 and w=uniform is 57651.19714526453\n",
            "RMSE for KNN with k=16 and w=distance is 0.0\n",
            "RMSE for KNN with k=17 and w=uniform is 57952.712297160666\n",
            "RMSE for KNN with k=17 and w=distance is 0.0\n",
            "RMSE for KNN with k=18 and w=uniform is 58211.763371723435\n",
            "RMSE for KNN with k=18 and w=distance is 0.0\n",
            "RMSE for KNN with k=19 and w=uniform is 58468.85154343703\n",
            "RMSE for KNN with k=19 and w=distance is 0.0\n"
          ]
        }
      ],
      "source": [
        "for k in range(3,20):\n",
        "    for w in ['uniform','distance']:\n",
        "        knn_pl = Pipeline([ ('imputer', SimpleImputer(strategy=\"median\")), \n",
        "                        ('std_scaler', StandardScaler()), ('lr',KNeighborsRegressor(n_neighbors=k, weights=w)) ])\n",
        "        knn_pl.fit(X_train,y_train)\n",
        "        y_pred = knn_pl.predict(X_train)\n",
        "        rmse_knn = np.sqrt(mean_squared_error(y_pred,y_train))\n",
        "        print(f'RMSE for KNN with k={k} and w={w} is {rmse_knn}')"
      ]
    },
    {
      "cell_type": "code",
      "execution_count": null,
      "metadata": {
        "id": "PDcgy_Gg3hUh"
      },
      "outputs": [],
      "source": [
        "from sklearn.model_selection import KFold\n",
        "from sklearn.model_selection import GridSearchCV"
      ]
    },
    {
      "cell_type": "code",
      "execution_count": null,
      "metadata": {
        "id": "2ZRzm2Bi3hUh"
      },
      "outputs": [],
      "source": [
        "X_train = X_train.to_numpy()\n",
        "y_train = y_train.to_numpy()"
      ]
    },
    {
      "cell_type": "code",
      "execution_count": null,
      "metadata": {
        "id": "KjvG3UxW3hUi"
      },
      "outputs": [],
      "source": [
        "knn_pl = Pipeline([ ('imputer', SimpleImputer(strategy=\"median\")), \n",
        "                        ('std_scaler', StandardScaler()), ('lr',KNeighborsRegressor(n_neighbors=7, weights='uniform')) ])"
      ]
    },
    {
      "cell_type": "code",
      "execution_count": null,
      "metadata": {
        "id": "X-Bsfgiq3hUi"
      },
      "outputs": [],
      "source": [
        "from sklearn.model_selection import cross_validate\n",
        "from sklearn.model_selection import cross_val_score"
      ]
    },
    {
      "cell_type": "code",
      "execution_count": null,
      "metadata": {
        "colab": {
          "base_uri": "https://localhost:8080/"
        },
        "id": "nnCa_BQU3hUi",
        "outputId": "de8c57bf-6572-4193-cbb9-45d2ea0ae02d"
      },
      "outputs": [
        {
          "output_type": "stream",
          "name": "stdout",
          "text": [
            "[-59230.96927355 -64555.74492018 -59652.17512816 -62690.14884724\n",
            " -62528.19571102]\n"
          ]
        }
      ],
      "source": [
        "cv_res = cross_val_score(knn_pl, X_train, y_train, cv=5, scoring='neg_root_mean_squared_error')\n",
        "print(cv_res)"
      ]
    },
    {
      "cell_type": "code",
      "source": [
        "sorted(sklearn.metrics.SCORERS.keys())"
      ],
      "metadata": {
        "colab": {
          "base_uri": "https://localhost:8080/"
        },
        "id": "oUTFHFEQ_wKW",
        "outputId": "bc0771f9-6e98-4115-c8a9-bc69932367ef"
      },
      "execution_count": null,
      "outputs": [
        {
          "output_type": "execute_result",
          "data": {
            "text/plain": [
              "['accuracy',\n",
              " 'adjusted_mutual_info_score',\n",
              " 'adjusted_rand_score',\n",
              " 'average_precision',\n",
              " 'balanced_accuracy',\n",
              " 'completeness_score',\n",
              " 'explained_variance',\n",
              " 'f1',\n",
              " 'f1_macro',\n",
              " 'f1_micro',\n",
              " 'f1_samples',\n",
              " 'f1_weighted',\n",
              " 'fowlkes_mallows_score',\n",
              " 'homogeneity_score',\n",
              " 'jaccard',\n",
              " 'jaccard_macro',\n",
              " 'jaccard_micro',\n",
              " 'jaccard_samples',\n",
              " 'jaccard_weighted',\n",
              " 'max_error',\n",
              " 'mutual_info_score',\n",
              " 'neg_brier_score',\n",
              " 'neg_log_loss',\n",
              " 'neg_mean_absolute_error',\n",
              " 'neg_mean_absolute_percentage_error',\n",
              " 'neg_mean_gamma_deviance',\n",
              " 'neg_mean_poisson_deviance',\n",
              " 'neg_mean_squared_error',\n",
              " 'neg_mean_squared_log_error',\n",
              " 'neg_median_absolute_error',\n",
              " 'neg_root_mean_squared_error',\n",
              " 'normalized_mutual_info_score',\n",
              " 'precision',\n",
              " 'precision_macro',\n",
              " 'precision_micro',\n",
              " 'precision_samples',\n",
              " 'precision_weighted',\n",
              " 'r2',\n",
              " 'rand_score',\n",
              " 'recall',\n",
              " 'recall_macro',\n",
              " 'recall_micro',\n",
              " 'recall_samples',\n",
              " 'recall_weighted',\n",
              " 'roc_auc',\n",
              " 'roc_auc_ovo',\n",
              " 'roc_auc_ovo_weighted',\n",
              " 'roc_auc_ovr',\n",
              " 'roc_auc_ovr_weighted',\n",
              " 'top_k_accuracy',\n",
              " 'v_measure_score']"
            ]
          },
          "metadata": {},
          "execution_count": 38
        }
      ]
    },
    {
      "cell_type": "code",
      "execution_count": null,
      "metadata": {
        "colab": {
          "base_uri": "https://localhost:8080/"
        },
        "id": "0iTefB2k3hUj",
        "outputId": "58c06582-c7b5-4ef9-f4ad-9f786297130e"
      },
      "outputs": [
        {
          "output_type": "stream",
          "name": "stdout",
          "text": [
            "[58742.13651443 64088.40708874 59043.35147794 62056.76522121\n",
            " 62112.11377142]\n",
            "61208.55481474889\n"
          ]
        }
      ],
      "source": [
        "cv_results = cross_validate(knn_pl, X_train, y_train, cv=5, scoring='neg_root_mean_squared_error')\n",
        "print(-cv_results['test_score'])\n",
        "print(np.mean(-cv_results['test_score']))"
      ]
    },
    {
      "cell_type": "code",
      "execution_count": null,
      "metadata": {
        "colab": {
          "base_uri": "https://localhost:8080/"
        },
        "id": "aUjWF6-c3hUj",
        "outputId": "e27f08f9-92e0-4e5b-e19f-2c607365c2a6"
      },
      "outputs": [
        {
          "output_type": "stream",
          "name": "stdout",
          "text": [
            "X_train Shape: (16346, 8)\n",
            "train_index Shape: (13076,)\n",
            "val_index Shape: (3270,)\n",
            "TRAIN RMSE for KNN is 53967.8320833016\n",
            "VAL RMSE for KNN is 59230.96927354815\n",
            "train_index Shape: (13077,)\n",
            "val_index Shape: (3269,)\n",
            "TRAIN RMSE for KNN is 52975.66959874765\n",
            "VAL RMSE for KNN is 64555.74492018172\n",
            "train_index Shape: (13077,)\n",
            "val_index Shape: (3269,)\n",
            "TRAIN RMSE for KNN is 53908.34238548822\n",
            "VAL RMSE for KNN is 59652.17512816217\n",
            "train_index Shape: (13077,)\n",
            "val_index Shape: (3269,)\n",
            "TRAIN RMSE for KNN is 53367.07850889515\n",
            "VAL RMSE for KNN is 62690.14884724455\n",
            "train_index Shape: (13077,)\n",
            "val_index Shape: (3269,)\n",
            "TRAIN RMSE for KNN is 53288.32731562395\n",
            "VAL RMSE for KNN is 62528.195711019165\n"
          ]
        }
      ],
      "source": [
        "kf = KFold(n_splits=5)\n",
        "kf.get_n_splits(X_train)\n",
        "print('X_train Shape:', X_train.shape)\n",
        "for train_index, val_index in kf.split(X_train):\n",
        "    print('train_index Shape:', train_index.shape)\n",
        "    print('val_index Shape:', val_index.shape)\n",
        "    X_trainr, X_val = X_train[train_index], X_train[val_index]\n",
        "    y_trainr, y_val = y_train[train_index], y_train[val_index]\n",
        "    knn_pl.fit(X_trainr,y_trainr)\n",
        "\n",
        "    y_pred = knn_pl.predict(X_trainr)\n",
        "    rmse_knn = np.sqrt(mean_squared_error(y_pred,y_trainr))\n",
        "    print(f'TRAIN RMSE for KNN is {rmse_knn}')\n",
        "\n",
        "    y_pred = knn_pl.predict(X_val)\n",
        "    rmse_knn = np.sqrt(mean_squared_error(y_pred,y_val))\n",
        "    print(f'VAL RMSE for KNN is {rmse_knn}')"
      ]
    },
    {
      "cell_type": "code",
      "execution_count": null,
      "metadata": {
        "colab": {
          "base_uri": "https://localhost:8080/"
        },
        "id": "0ZifV9JL3hUj",
        "outputId": "ffe92eba-be45-4f94-88f9-c6706cc008d1"
      },
      "outputs": [
        {
          "output_type": "stream",
          "name": "stdout",
          "text": [
            "train_score [53967.8320833  52975.66959875 53908.34238549 53367.0785089\n",
            " 53288.32731562]\n",
            "test_score [59230.96927355 64555.74492018 59652.17512816 62690.14884724\n",
            " 62528.19571102]\n",
            "mean of test_score 61731.44677603115\n"
          ]
        }
      ],
      "source": [
        "cv_results = cross_validate(knn_pl, X_train, y_train, cv=5, return_train_score=True, scoring='neg_root_mean_squared_error')\n",
        "print('train_score', -cv_results['train_score'])\n",
        "print('test_score', -cv_results['test_score'])\n",
        "print('mean of test_score', np.mean(-cv_results['test_score']))"
      ]
    },
    {
      "cell_type": "code",
      "execution_count": null,
      "metadata": {
        "colab": {
          "base_uri": "https://localhost:8080/"
        },
        "id": "2Vceua2w3hUk",
        "outputId": "aadb9506-b4b2-44bb-bffd-851caf4eb597"
      },
      "outputs": [
        {
          "output_type": "stream",
          "name": "stdout",
          "text": [
            "Best score is 61021.07494976645 for best params of {'n_neighbors': 10, 'weights': 'distance'}\n"
          ]
        }
      ],
      "source": [
        "std_pl = Pipeline([ ('imputer', SimpleImputer(strategy=\"median\")), \n",
        "                        ('std_scaler', StandardScaler())])\n",
        "std_X_train = std_pl.fit_transform(X_train)\n",
        "\n",
        "knn_pl = KNeighborsRegressor()\n",
        "parameters = {'n_neighbors':[3,5,10,20,30,50], 'weights':['uniform','distance']}\n",
        "gridcv = GridSearchCV(knn_pl, parameters, cv=5, scoring='neg_root_mean_squared_error')\n",
        "gridcv.fit(std_X_train, y_train)\n",
        "print(f'Best score is {-gridcv.best_score_} for best params of {gridcv.best_params_}')  "
      ]
    },
    {
      "cell_type": "code",
      "source": [
        "knn_pl.get_params().keys()"
      ],
      "metadata": {
        "colab": {
          "base_uri": "https://localhost:8080/"
        },
        "id": "krIsOaKmBa3X",
        "outputId": "c9883f0a-13d9-41df-bf3d-dffed51ff3da"
      },
      "execution_count": null,
      "outputs": [
        {
          "output_type": "execute_result",
          "data": {
            "text/plain": [
              "dict_keys(['algorithm', 'leaf_size', 'metric', 'metric_params', 'n_jobs', 'n_neighbors', 'p', 'weights'])"
            ]
          },
          "metadata": {},
          "execution_count": 52
        }
      ]
    },
    {
      "cell_type": "code",
      "execution_count": null,
      "metadata": {
        "colab": {
          "base_uri": "https://localhost:8080/"
        },
        "id": "dhmjtW1F3hUk",
        "outputId": "547c6c20-ab62-4436-d51f-78aa0955454a"
      },
      "outputs": [
        {
          "output_type": "stream",
          "name": "stdout",
          "text": [
            "Test RMSE is 97875.40340872464\n"
          ]
        },
        {
          "output_type": "stream",
          "name": "stderr",
          "text": [
            "/usr/local/lib/python3.7/dist-packages/sklearn/base.py:444: UserWarning: X has feature names, but KNeighborsRegressor was fitted without feature names\n",
            "  f\"X has feature names, but {self.__class__.__name__} was fitted without\"\n"
          ]
        }
      ],
      "source": [
        "gridcv.best_estimator_.fit(np.concatenate((X_train,X_val)),np.concatenate((y_train,y_val)))\n",
        "y_test_pred = gridcv.best_estimator_.predict(X_test)\n",
        "print(f'Test RMSE is {np.sqrt(mean_squared_error(y_test_pred,y_test))}')"
      ]
    }
  ],
  "metadata": {
    "kernelspec": {
      "display_name": "Python 3 (ipykernel)",
      "language": "python",
      "name": "python3"
    },
    "language_info": {
      "codemirror_mode": {
        "name": "ipython",
        "version": 3
      },
      "file_extension": ".py",
      "mimetype": "text/x-python",
      "name": "python",
      "nbconvert_exporter": "python",
      "pygments_lexer": "ipython3",
      "version": "3.9.7"
    },
    "colab": {
      "name": "workshop03-answers.ipynb",
      "provenance": [],
      "collapsed_sections": []
    }
  },
  "nbformat": 4,
  "nbformat_minor": 0
}