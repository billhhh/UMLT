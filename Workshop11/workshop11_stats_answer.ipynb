{
  "cells": [
    {
      "cell_type": "markdown",
      "metadata": {
        "id": "HG3cN0IIRShh"
      },
      "source": [
        "# Workshop 11\n",
        "\n",
        "Starter code for workshop 11 is just like workshop 4 at the beginning. \n",
        "\n",
        "Modified by Hu Wang"
      ]
    },
    {
      "cell_type": "code",
      "execution_count": 1,
      "metadata": {
        "id": "uZZn5k_LRShl"
      },
      "outputs": [],
      "source": [
        "# Python ≥3.5 is required\n",
        "import sys\n",
        "assert sys.version_info >= (3, 5)\n",
        "\n",
        "# Scikit-Learn ≥0.20 is required\n",
        "import sklearn\n",
        "assert sklearn.__version__ >= \"0.20\"\n",
        "\n",
        "# Common imports\n",
        "import numpy as np\n",
        "import os\n",
        "\n",
        "# To plot pretty figures\n",
        "%matplotlib inline\n",
        "import matplotlib as mpl\n",
        "import matplotlib.pyplot as plt\n",
        "mpl.rc('axes', labelsize=14)\n",
        "mpl.rc('xtick', labelsize=12)\n",
        "mpl.rc('ytick', labelsize=12)\n",
        "\n",
        "# To plot even prettier figures\n",
        "import seaborn as sn\n",
        "\n",
        "# General data handling (pure numerics are better in numpy)\n",
        "import pandas as pd"
      ]
    },
    {
      "cell_type": "code",
      "execution_count": 2,
      "metadata": {
        "id": "rfo1u_DpRShz"
      },
      "outputs": [],
      "source": [
        "from sklearn.datasets import load_breast_cancer\n",
        "data = load_breast_cancer()"
      ]
    },
    {
      "cell_type": "code",
      "execution_count": 3,
      "metadata": {
        "colab": {
          "base_uri": "https://localhost:8080/"
        },
        "id": "dPIdBzkbRSh0",
        "outputId": "6ae48720-425d-48c2-d5bb-0558253b8042"
      },
      "outputs": [
        {
          "output_type": "stream",
          "name": "stdout",
          "text": [
            "(569, 30)\n",
            "(569,)\n",
            "(569, 31)\n"
          ]
        }
      ],
      "source": [
        "xarray = data.data\n",
        "yarray = data.target\n",
        "print(xarray.shape)\n",
        "print(yarray.shape)\n",
        "fullarray = np.concatenate((xarray,np.reshape(yarray,(-1,1))),axis=1)\n",
        "print(fullarray.shape)"
      ]
    },
    {
      "cell_type": "code",
      "execution_count": 4,
      "metadata": {
        "id": "Yr0roZDbRSh0"
      },
      "outputs": [],
      "source": [
        "fullarray[:,-1] = 1 - fullarray[:,-1]   # now invert the labels (so that malignant=1)\n",
        "df = pd.DataFrame(fullarray,columns = list(data.feature_names) + ['target'])"
      ]
    },
    {
      "cell_type": "code",
      "execution_count": 5,
      "metadata": {
        "id": "6FHIwNQdRSh0"
      },
      "outputs": [],
      "source": [
        "from sklearn.model_selection import train_test_split\n",
        "\n",
        "bigtrain_set, test_set = train_test_split(fullarray, test_size=0.2, random_state=42)\n",
        "train_set, val_set = train_test_split(bigtrain_set, test_size=0.2, random_state=42)"
      ]
    },
    {
      "cell_type": "code",
      "execution_count": 6,
      "metadata": {
        "colab": {
          "base_uri": "https://localhost:8080/"
        },
        "id": "vUELs0AoRSh1",
        "outputId": "d89c36a0-0776-4157-ce89-8112615860af"
      },
      "outputs": [
        {
          "output_type": "stream",
          "name": "stdout",
          "text": [
            "[(364, 30), (364,), (114, 30), (114,), (91, 30), (91,)]\n"
          ]
        }
      ],
      "source": [
        "X_bigtrain = bigtrain_set[:,:-1]\n",
        "y_bigtrain = bigtrain_set[:,-1]\n",
        "X_train = train_set[:,:-1]\n",
        "y_train = train_set[:,-1]\n",
        "X_test = test_set[:,:-1]\n",
        "y_test = test_set[:,-1]\n",
        "X_val = val_set[:,:-1]\n",
        "y_val = val_set[:,-1]\n",
        "print([X_train.shape,y_train.shape,X_test.shape,y_test.shape,X_val.shape,y_val.shape])"
      ]
    },
    {
      "cell_type": "code",
      "execution_count": 7,
      "metadata": {
        "id": "t31cJFW6RSh1"
      },
      "outputs": [],
      "source": [
        "from sklearn.pipeline import Pipeline\n",
        "from sklearn.preprocessing import StandardScaler\n",
        "from sklearn.impute import SimpleImputer\n",
        "\n",
        "preproc_pl = Pipeline([ ('imputer', SimpleImputer(strategy=\"median\")), \n",
        "                        ('std_scaler', StandardScaler()) ])"
      ]
    },
    {
      "cell_type": "markdown",
      "metadata": {
        "id": "8Xx48n0lRSh2"
      },
      "source": [
        "# New part - statistical tests for classifier output"
      ]
    },
    {
      "cell_type": "code",
      "execution_count": 8,
      "metadata": {
        "id": "RI5X3mk0RSh2"
      },
      "outputs": [],
      "source": [
        "from sklearn.linear_model import SGDClassifier\n",
        "from sklearn.neighbors import KNeighborsClassifier"
      ]
    },
    {
      "cell_type": "code",
      "execution_count": 9,
      "metadata": {
        "id": "sXG3EwBORSh3"
      },
      "outputs": [],
      "source": [
        "rs = np.random.randint(100,size=1)[0]\n",
        "\n",
        "# run three classifiers\n",
        "#  - the first two should be equally good on average (but different each time)\n",
        "#  - the last one should be different on average (last one gives same result each time)\n",
        "\n",
        "y_val_pred = []\n",
        "pipes = []\n",
        "\n",
        "pipes += [ Pipeline([ ('preproc',preproc_pl), ('sgd',SGDClassifier(loss='log',random_state=rs)) ]) ]\n",
        "pipes[0].fit(X_train,y_train)\n",
        "y_val_pred +=  [ pipes[0].predict(X_val) ]\n",
        "\n",
        "pipes += [ Pipeline([ ('preproc',preproc_pl), ('sgd',SGDClassifier(loss='log',random_state=rs+1)) ]) ]\n",
        "pipes[1].fit(X_train,y_train)\n",
        "y_val_pred += [ pipes[1].predict(X_val) ]\n",
        "\n",
        "# this next one is deliberately rather poor, to show a difference\n",
        "pipes += [ Pipeline([ ('preproc',preproc_pl), ('knn',KNeighborsClassifier(n_neighbors=100)) ]) ]\n",
        "pipes[2].fit(X_train,y_train)\n",
        "y_val_pred += [ pipes[2].predict(X_val) ]"
      ]
    },
    {
      "cell_type": "code",
      "execution_count": 10,
      "metadata": {
        "colab": {
          "base_uri": "https://localhost:8080/"
        },
        "id": "C35JcEY-RSh4",
        "outputId": "da8b983d-67f4-48ec-951b-3b65f9ee0cbb"
      },
      "outputs": [
        {
          "output_type": "stream",
          "name": "stdout",
          "text": [
            "Which score is better?\n",
            "Method 0: 0.946\n",
            "Method 1: 0.944\n",
            "Method 2: 0.912\n"
          ]
        }
      ],
      "source": [
        "from sklearn.metrics import f1_score\n",
        "\n",
        "print('Which score is better?')\n",
        "\n",
        "for n in range(3):\n",
        "    print(f'Method {n}: {f1_score(y_val,y_val_pred[n]):.3f}')\n"
      ]
    },
    {
      "cell_type": "code",
      "execution_count": 11,
      "metadata": {
        "id": "tEKn-F87RSh4"
      },
      "outputs": [],
      "source": [
        "from mlxtend.evaluate import permutation_test   # pip install mlxtend"
      ]
    },
    {
      "cell_type": "code",
      "execution_count": 13,
      "metadata": {
        "colab": {
          "base_uri": "https://localhost:8080/"
        },
        "id": "b6J4z7wdRSh4",
        "outputId": "724ab5a3-84fd-4549-86b8-672afa90473b"
      },
      "outputs": [
        {
          "output_type": "stream",
          "name": "stdout",
          "text": [
            "P value comparing methods 0 and 1: 0.976 %\n",
            "P value comparing methods 0 and 2: 0.730 %\n",
            "P value comparing methods 1 and 2: 0.754 %\n",
            "\n",
            "Threshold is 0.0167, where P value needs to be *below* this for significance\n"
          ]
        }
      ],
      "source": [
        "ntests = 0\n",
        "for n1 in range(2):\n",
        "    for n2 in range(n1+1,3):\n",
        "        p_value = permutation_test(\n",
        "            y_val_pred[n1], y_val_pred[n2], #paired=True,  \n",
        "            func=lambda x, y: np.abs(f1_score(y_val,x) - f1_score(y_val,y)),\n",
        "            method=\"approximate\", seed=0, num_rounds=1000\n",
        "        )\n",
        "        ntests += 1\n",
        "\n",
        "        print(f'P value comparing methods {n1} and {n2}: {p_value:.3f} %')\n",
        "print(f'\\nThreshold is {0.05/ntests:.4f}, where P value needs to be *below* this for significance')"
      ]
    },
    {
      "cell_type": "code",
      "execution_count": 14,
      "metadata": {
        "colab": {
          "base_uri": "https://localhost:8080/"
        },
        "id": "tdQFfMWVRSh5",
        "outputId": "3a2d7724-d4d3-4f64-8f39-27dcb7d84e50"
      },
      "outputs": [
        {
          "output_type": "stream",
          "name": "stdout",
          "text": [
            "*** Results for method 0 ***\n",
            "  Validation results are 0.943 +/- 0.024\n",
            "*** Results for method 1 ***\n",
            "  Validation results are 0.950 +/- 0.026\n",
            "*** Results for method 2 ***\n",
            "  Validation results are 0.873 +/- 0.039\n"
          ]
        }
      ],
      "source": [
        "# Cross validation results for comparison\n",
        "#  - the P values above are the best test, but this is a useful comparison\n",
        "\n",
        "from sklearn.model_selection import cross_validate\n",
        "from sklearn.metrics import fbeta_score, make_scorer\n",
        "\n",
        "f1_scorer = make_scorer(fbeta_score, beta=1)\n",
        "\n",
        "for n in range(3):\n",
        "    print(f'*** Results for method {n} ***')\n",
        "    cv_results = cross_validate(pipes[n], X_bigtrain, y_bigtrain, cv=5, return_train_score=True, scoring=f1_scorer)\n",
        "    # the following is a 95% confidence interval calculation\n",
        "    # - this is better than standard deviation as overlapping intervals => no stat significance (approx) \n",
        "    # Note that this is approximate as it assumes a normal distribution \n",
        "    #  it also does not take into account multiple tests\n",
        "    #  therefore it implies significance more easily than the P values above (which are better)\n",
        "    CI = np.std(cv_results['test_score'])*1.96/np.sqrt(cv_results['test_score'].shape[0])\n",
        "    print(f\"  Validation results are {np.mean(cv_results['test_score']):.3f} +/- {CI:.3f}\")"
      ]
    }
  ],
  "metadata": {
    "kernelspec": {
      "display_name": "Python 3 (ipykernel)",
      "language": "python",
      "name": "python3"
    },
    "language_info": {
      "codemirror_mode": {
        "name": "ipython",
        "version": 3
      },
      "file_extension": ".py",
      "mimetype": "text/x-python",
      "name": "python",
      "nbconvert_exporter": "python",
      "pygments_lexer": "ipython3",
      "version": "3.9.7"
    },
    "colab": {
      "name": "workshop11-stats-answer.ipynb",
      "provenance": []
    }
  },
  "nbformat": 4,
  "nbformat_minor": 0
}