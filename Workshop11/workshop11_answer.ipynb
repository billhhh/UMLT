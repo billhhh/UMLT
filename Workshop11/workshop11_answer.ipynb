{
  "cells": [
    {
      "cell_type": "markdown",
      "metadata": {
        "id": "YrA8RmP9SQRg"
      },
      "source": [
        "# Workshop 11 - Network architectures (CNN vs ResNET)\n",
        "\n",
        "Code for workshop 11.  This will use Keras (within tensorflow v2)"
      ]
    },
    {
      "cell_type": "markdown",
      "metadata": {
        "id": "qns5wMgxSQRi"
      },
      "source": [
        "---\n",
        "---\n",
        "## 1. Initialise the environment"
      ]
    },
    {
      "cell_type": "code",
      "execution_count": 1,
      "metadata": {
        "colab": {
          "base_uri": "https://localhost:8080/"
        },
        "id": "4b1eFNh7SQRj",
        "outputId": "fd022b31-1e4d-4c70-9294-d6e93740fa26"
      },
      "outputs": [
        {
          "output_type": "stream",
          "name": "stdout",
          "text": [
            "2.8.2\n",
            "2.8.0\n"
          ]
        }
      ],
      "source": [
        "# Python ≥3.5 is required\n",
        "import sys\n",
        "assert sys.version_info >= (3, 5)\n",
        "\n",
        "# Scikit-Learn ≥0.20 is required\n",
        "import sklearn\n",
        "assert sklearn.__version__ >= \"0.20\"\n",
        "\n",
        "# Common imports\n",
        "import numpy as np\n",
        "import os, time\n",
        "import pandas as pd\n",
        "\n",
        "# Deep Learning imports\n",
        "import tensorflow as tf\n",
        "from tensorflow import keras\n",
        "\n",
        "# To plot nice figures\n",
        "%matplotlib inline\n",
        "import matplotlib as mpl\n",
        "import matplotlib.pyplot as plt\n",
        "mpl.rc('axes', labelsize=14)\n",
        "mpl.rc('xtick', labelsize=12)\n",
        "mpl.rc('ytick', labelsize=12)\n",
        "mpl.rc('figure', dpi=100)\n",
        "import seaborn as sns; sns.set()\n",
        "\n",
        "# Check the versions are OK (both should be 2 or more)\n",
        "print(tf.__version__)\n",
        "print(keras.__version__)"
      ]
    },
    {
      "cell_type": "markdown",
      "metadata": {
        "id": "lgWbHB-ISQRu"
      },
      "source": [
        "---\n",
        "---\n",
        "## 2. Load, inspect and prepare the data\n",
        "\n",
        "We will use MNIST, which is a set of small images (28x28) that contain 10 \n",
        "digits - see below for class names and an example image."
      ]
    },
    {
      "cell_type": "code",
      "execution_count": 2,
      "metadata": {
        "colab": {
          "base_uri": "https://localhost:8080/"
        },
        "id": "iWtIa1BVSQRv",
        "outputId": "34f021e6-5b53-469e-b1c9-6b0b0764961d"
      },
      "outputs": [
        {
          "output_type": "stream",
          "name": "stdout",
          "text": [
            "Downloading data from https://storage.googleapis.com/tensorflow/tf-keras-datasets/mnist.npz\n",
            "11493376/11490434 [==============================] - 0s 0us/step\n",
            "11501568/11490434 [==============================] - 0s 0us/step\n"
          ]
        }
      ],
      "source": [
        "# This is a built-in data for keras, so easily accessible\n",
        "mnist = keras.datasets.mnist\n",
        "(X_train_full, y_train_full), (X_test, y_test) = mnist.load_data()"
      ]
    },
    {
      "cell_type": "code",
      "execution_count": 3,
      "metadata": {
        "colab": {
          "base_uri": "https://localhost:8080/"
        },
        "id": "lHcFC8McSQRv",
        "outputId": "3c9a0afe-d661-4957-aef6-a9a7a7df3534"
      },
      "outputs": [
        {
          "output_type": "stream",
          "name": "stdout",
          "text": [
            "(60000, 28, 28)\n",
            "(10000, 28, 28)\n"
          ]
        }
      ],
      "source": [
        "# Let's see how big it is\n",
        "print(X_train_full.shape)\n",
        "print(X_test.shape)\n",
        "n_total = X_train_full.shape[0]"
      ]
    },
    {
      "cell_type": "code",
      "execution_count": 4,
      "metadata": {
        "colab": {
          "base_uri": "https://localhost:8080/",
          "height": 319
        },
        "id": "aZycVNqPSQRv",
        "outputId": "e19ab681-59a7-41b5-db23-6531b8652342"
      },
      "outputs": [
        {
          "output_type": "stream",
          "name": "stdout",
          "text": [
            "float64\n",
            "float64\n",
            "7\n"
          ]
        },
        {
          "output_type": "display_data",
          "data": {
            "text/plain": [
              "<Figure size 432x288 with 1 Axes>"
            ],
            "image/png": "[encoded data removed]"
          },
          "metadata": {
            "needs_background": "light"
          }
        }
      ],
      "source": [
        "# Scale the data appropriately (it starts with max of 255, but we want\n",
        "# max of 1)\n",
        "# We will do this \"by hand\" here, but we could build a pipeline scaler \n",
        "# for this instead. We also split the training set given to us into \n",
        "# training and validation subsets \n",
        "# The value of 5000 samples as the size of the validation set is an \n",
        "# arbitrary choice\n",
        "X_test = X_test/255.0\n",
        "X_valid, X_train = X_train_full[:5000]/255.0, X_train_full[5000:]/255.0 \n",
        "y_valid, y_train = y_train_full[:5000], y_train_full[5000:]\n",
        "class_names = np.array([ \"0\",\"1\",\"2\",\"3\",\"4\",\"5\",\"6\",\"7\",\"8\",\"9\" ])\n",
        "\n",
        "# Inspect some aspects of the data (in general, you should play around \n",
        "# with the data more than this to get a feel for it)\n",
        "# Check that scaled types are appropriate\n",
        "print(X_train.dtype)\n",
        "print(X_valid.dtype)\n",
        "# Look at first item\n",
        "print(class_names[y_train[0]])\n",
        "plt.imshow(X_train[0,:,:], cmap='gray')\n",
        "plt.grid(False)\n",
        "plt.show()"
      ]
    },
    {
      "cell_type": "code",
      "execution_count": 5,
      "metadata": {
        "colab": {
          "base_uri": "https://localhost:8080/",
          "height": 246
        },
        "id": "ryhTZGKKSQRw",
        "outputId": "046e2d9c-7cf7-4764-9435-beb984508374"
      },
      "outputs": [
        {
          "output_type": "display_data",
          "data": {
            "text/plain": [
              "<Figure size 864x216 with 3 Axes>"
            ],
            "image/png": "[encoded data removed]"
          },
          "metadata": {
            "needs_background": "light"
          }
        }
      ],
      "source": [
        "# Let's look at the distribution of labels in the training, validation \n",
        "# and test sets\n",
        "fig, sub = plt.subplots(1, 3)\n",
        "fig.set_size_inches(12,3)\n",
        "sub[0].hist(y_train)\n",
        "sub[0].set_ylabel('Count')\n",
        "sub[0].set_xlabel('Class')\n",
        "sub[0].set_title('y_train')\n",
        "sub[1].hist(y_valid)\n",
        "sub[1].set_xlabel('Class')\n",
        "sub[1].set_title('y_valid')\n",
        "sub[2].hist(y_test)\n",
        "sub[2].set_xlabel('Class')\n",
        "sub[2].set_title('y_test')\n",
        "plt.show()"
      ]
    },
    {
      "cell_type": "code",
      "execution_count": 6,
      "metadata": {
        "id": "LDS9Hk-PSQRw"
      },
      "outputs": [],
      "source": [
        "# Reshape the data to be shape [Nx, Ny, 1]  (previously 2D was fine, but for \n",
        "#CNN we need depth too)\n",
        "X_train = X_train.reshape((-1, 28, 28, 1))\n",
        "X_valid = X_valid.reshape((-1, 28, 28, 1))\n",
        "X_test = X_test.reshape((-1, 28, 28, 1))"
      ]
    },
    {
      "cell_type": "markdown",
      "metadata": {
        "id": "fiUk8yk5SQRx"
      },
      "source": [
        "---\n",
        "---\n",
        "## 3. Define helper functions that build models in a parameterised way\n",
        "\n"
      ]
    },
    {
      "cell_type": "code",
      "execution_count": 7,
      "metadata": {
        "id": "SUoPBftOSQRx"
      },
      "outputs": [],
      "source": [
        "# Build a CNN\n",
        "def model_cnn_factory(hiddensizes, actfn, optimizer, learningrate=0):\n",
        "    model = keras.models.Sequential()\n",
        "    model.add(keras.layers.Conv2D(filters=hiddensizes[0], kernel_size=3, \n",
        "                                  strides=1, activation=actfn, padding=\"same\", \n",
        "                                  input_shape=[28, 28, 1]))    \n",
        "                                  # input layer goes into this 2D convolution\n",
        "    model.add(keras.layers.MaxPooling2D(pool_size=2))     # Pool (downsize)\n",
        "    for n in hiddensizes[1:-1]:\n",
        "        model.add(keras.layers.Conv2D(filters=n, kernel_size=3, strides=1, \n",
        "                                      padding=\"same\", activation=actfn))  \n",
        "                                      # 2nd Conv\n",
        "        model.add(keras.layers.MaxPooling2D(pool_size=2)) # Pool (downsize)\n",
        "    model.add(keras.layers.Conv2D(filters=hiddensizes[-1], kernel_size=3, \n",
        "                                  strides=1, padding=\"same\", activation=actfn))  \n",
        "                                  # 2nd Conv\n",
        "    model.add(keras.layers.Flatten())          # unravel into a 1D vector\n",
        "    model.add(keras.layers.Dense(10, activation = \"softmax\"))  \n",
        "        # always have 10 classes\n",
        "    model.compile(loss=\"sparse_categorical_crossentropy\", \n",
        "                  optimizer=optimizer(learning_rate=learningrate), metrics=[\"accuracy\"])   \n",
        "    return model\n",
        "\n",
        "# Optional aside: the CNN can become a Fully Convolutional Network (FCN) by \n",
        "# replacing the Flatten and Dense lines with model.add(keras.layers.\n",
        "# Conv2D(filters=10, kernel_size=7, padding=\"valid\", activation=\"softmax\"))\n",
        "# This uses a kernel equal to the full image size (at this point) to generate \n",
        "# a single output per filter which requires the convolution to be \"valid\" \n",
        "# and not \"same\""
      ]
    },
    {
      "cell_type": "code",
      "execution_count": 8,
      "metadata": {
        "id": "CgaMxvTrSQRy"
      },
      "outputs": [],
      "source": [
        "def fit_evaluate(model, n_train, n_valid, n_epochs, batch_size, callbacks=[]):\n",
        "    history = model.fit(X_train[:n_train,:,:,:], y_train[:n_train], epochs=n_epochs, callbacks = callbacks,\n",
        "                        validation_data=(X_valid[:n_valid,:,:,:], y_valid[:n_valid]),verbose=1)\n",
        "    max_val_acc = np.max(history.history['val_accuracy'])\n",
        "    testres = model.evaluate(X_test, y_test, verbose=0)\n",
        "    return (max_val_acc, testres[1], history, model)"
      ]
    },
    {
      "cell_type": "code",
      "execution_count": 9,
      "metadata": {
        "id": "oSONUHIxSQRy"
      },
      "outputs": [],
      "source": [
        "def plot_history(history):\n",
        "    # Plot the results (shifting validation curves appropriately)\n",
        "    plt.figure(figsize=(8,5))\n",
        "    n = len(history.history['accuracy'])\n",
        "    plt.plot(np.arange(0,n),history.history['accuracy'], color='orange')\n",
        "    plt.plot(np.arange(0,n),history.history['loss'],'b')\n",
        "    plt.plot(np.arange(0,n)+0.5,history.history['val_accuracy'],'r')  # offset both validation curves\n",
        "    plt.plot(np.arange(0,n)+0.5,history.history['val_loss'],'g')\n",
        "    plt.legend(['Train Acc','Train Loss','Val Acc','Val Loss'])\n",
        "    plt.grid(True)\n",
        "    plt.gca().set_ylim(0, 1) # set the vertical range to [0-1] \n",
        "    plt.show() "
      ]
    },
    {
      "cell_type": "markdown",
      "metadata": {
        "id": "j4f0IQDvSQRy"
      },
      "source": [
        "---\n",
        "---\n",
        "## 4. Define common modelling parameters\n",
        "\n"
      ]
    },
    {
      "cell_type": "code",
      "execution_count": 10,
      "metadata": {
        "id": "QzDgvKFHSQRz"
      },
      "outputs": [],
      "source": [
        "# Some key parameters\n",
        "n_train = 3000\n",
        "n_valid = 1000\n",
        "# Define the number and size of hidden layers\n",
        "hiddensizes = [16, 32, 16]\n",
        "# Define the activation function to be used by hidden layers\n",
        "#actfn = \"relu\"\n",
        "actfn = \"elu\"\n",
        "# Optimiser and learning rate\n",
        "#optimizer = keras.optimizers.SGD\n",
        "#learningrate = 0.01   # SGD default value\n",
        "optimizer = keras.optimizers.Nadam\n",
        "learningrate = 0.001   # SGD default value\n",
        "# Set size of batch and number of epochs\n",
        "batch_size = 32\n",
        "n_epochs = 30"
      ]
    },
    {
      "cell_type": "code",
      "execution_count": 11,
      "metadata": {
        "id": "F8x1v0BcSQRz"
      },
      "outputs": [],
      "source": [
        "# Early stopping callback - this is executed when fitting and will \n",
        "# stop and restore best result\n",
        "early_stopping_cb = keras.callbacks.EarlyStopping(monitor='val_accuracy', \n",
        "                                                  patience=5, \n",
        "                                                  restore_best_weights=True) "
      ]
    },
    {
      "cell_type": "markdown",
      "metadata": {
        "id": "3OFq-ipBSQRz"
      },
      "source": [
        "---\n",
        "---\n",
        "## 5. Build a simple Convolutional Neural Network\n",
        "\n",
        "We will use the keras version built into tensorflow version 2.\n",
        "It is remarkably simple for building, training and evaluating networks."
      ]
    },
    {
      "cell_type": "code",
      "execution_count": 12,
      "metadata": {
        "colab": {
          "base_uri": "https://localhost:8080/"
        },
        "id": "rW0t_jIeSQR0",
        "outputId": "85a14cb2-a817-4405-c386-65518fd161c8"
      },
      "outputs": [
        {
          "output_type": "stream",
          "name": "stdout",
          "text": [
            "Model: \"sequential\"\n",
            "_________________________________________________________________\n",
            " Layer (type)                Output Shape              Param #   \n",
            "=================================================================\n",
            " conv2d (Conv2D)             (None, 28, 28, 16)        160       \n",
            "                                                                 \n",
            " max_pooling2d (MaxPooling2D  (None, 14, 14, 16)       0         \n",
            " )                                                               \n",
            "                                                                 \n",
            " conv2d_1 (Conv2D)           (None, 14, 14, 32)        4640      \n",
            "                                                                 \n",
            " max_pooling2d_1 (MaxPooling  (None, 7, 7, 32)         0         \n",
            " 2D)                                                             \n",
            "                                                                 \n",
            " conv2d_2 (Conv2D)           (None, 7, 7, 16)          4624      \n",
            "                                                                 \n",
            " flatten (Flatten)           (None, 784)               0         \n",
            "                                                                 \n",
            " dense (Dense)               (None, 10)                7850      \n",
            "                                                                 \n",
            "=================================================================\n",
            "Total params: 17,274\n",
            "Trainable params: 17,274\n",
            "Non-trainable params: 0\n",
            "_________________________________________________________________\n"
          ]
        }
      ],
      "source": [
        "#valacc, testacc, history, model = do_all(hiddensizes, actfn, optimizer, learningrate, n_train, n_valid, n_epochs, batch_size)\n",
        "model = model_cnn_factory(hiddensizes, actfn, optimizer, learningrate)\n",
        "model.summary()"
      ]
    },
    {
      "cell_type": "code",
      "execution_count": 13,
      "metadata": {
        "colab": {
          "base_uri": "https://localhost:8080/"
        },
        "id": "Dkc2a8KmSQR0",
        "outputId": "3b9dd28f-ff5f-4baa-8c38-363ef211b7c9"
      },
      "outputs": [
        {
          "output_type": "stream",
          "name": "stdout",
          "text": [
            "Epoch 1/30\n",
            "94/94 [==============================] - 4s 30ms/step - loss: 0.9489 - accuracy: 0.7267 - val_loss: 0.4058 - val_accuracy: 0.8810\n",
            "Epoch 2/30\n",
            "94/94 [==============================] - 3s 27ms/step - loss: 0.2765 - accuracy: 0.9183 - val_loss: 0.3401 - val_accuracy: 0.8890\n",
            "Epoch 3/30\n",
            "94/94 [==============================] - 3s 28ms/step - loss: 0.1897 - accuracy: 0.9463 - val_loss: 0.2267 - val_accuracy: 0.9430\n",
            "Epoch 4/30\n",
            "94/94 [==============================] - 3s 27ms/step - loss: 0.1377 - accuracy: 0.9613 - val_loss: 0.1963 - val_accuracy: 0.9440\n",
            "Epoch 5/30\n",
            "94/94 [==============================] - 3s 27ms/step - loss: 0.1083 - accuracy: 0.9693 - val_loss: 0.2038 - val_accuracy: 0.9410\n",
            "Epoch 6/30\n",
            "94/94 [==============================] - 3s 27ms/step - loss: 0.0813 - accuracy: 0.9743 - val_loss: 0.1789 - val_accuracy: 0.9510\n",
            "Epoch 7/30\n",
            "94/94 [==============================] - 3s 27ms/step - loss: 0.0648 - accuracy: 0.9790 - val_loss: 0.1813 - val_accuracy: 0.9540\n",
            "Epoch 8/30\n",
            "94/94 [==============================] - 3s 34ms/step - loss: 0.0529 - accuracy: 0.9830 - val_loss: 0.2054 - val_accuracy: 0.9400\n",
            "Epoch 9/30\n",
            "94/94 [==============================] - 3s 31ms/step - loss: 0.0420 - accuracy: 0.9870 - val_loss: 0.1632 - val_accuracy: 0.9600\n",
            "Epoch 10/30\n",
            "94/94 [==============================] - 3s 27ms/step - loss: 0.0295 - accuracy: 0.9930 - val_loss: 0.1865 - val_accuracy: 0.9590\n",
            "Epoch 11/30\n",
            "94/94 [==============================] - 3s 28ms/step - loss: 0.0231 - accuracy: 0.9940 - val_loss: 0.1919 - val_accuracy: 0.9570\n",
            "Epoch 12/30\n",
            "94/94 [==============================] - 3s 31ms/step - loss: 0.0250 - accuracy: 0.9913 - val_loss: 0.1731 - val_accuracy: 0.9600\n",
            "Epoch 13/30\n",
            "94/94 [==============================] - 3s 28ms/step - loss: 0.0140 - accuracy: 0.9973 - val_loss: 0.1862 - val_accuracy: 0.9590\n",
            "Epoch 14/30\n",
            "94/94 [==============================] - 3s 28ms/step - loss: 0.0120 - accuracy: 0.9967 - val_loss: 0.1773 - val_accuracy: 0.9580\n"
          ]
        }
      ],
      "source": [
        "# Fit and evaluate the model\n",
        "valacc, testacc, history, model = fit_evaluate(model, n_train, n_valid, n_epochs, batch_size, \n",
        "                                               callbacks=early_stopping_cb)"
      ]
    },
    {
      "cell_type": "code",
      "execution_count": 14,
      "metadata": {
        "colab": {
          "base_uri": "https://localhost:8080/",
          "height": 326
        },
        "id": "pV_UecTXSQR0",
        "outputId": "90a6c98a-804b-48d8-bc89-a7eb636403d9"
      },
      "outputs": [
        {
          "output_type": "display_data",
          "data": {
            "text/plain": [
              "<Figure size 576x360 with 1 Axes>"
            ],
            "image/png": "[encoded data removed]"
          },
          "metadata": {
            "needs_background": "light"
          }
        }
      ],
      "source": [
        "# Inspect the training process\n",
        "plot_history(history)"
      ]
    },
    {
      "cell_type": "code",
      "execution_count": 15,
      "metadata": {
        "colab": {
          "base_uri": "https://localhost:8080/"
        },
        "id": "qSemY_3SSQR1",
        "outputId": "f13ecda1-8ee4-4eba-c48b-8e4858818604"
      },
      "outputs": [
        {
          "output_type": "stream",
          "name": "stdout",
          "text": [
            "[0.13640159368515015, 0.9599000215530396]\n"
          ]
        }
      ],
      "source": [
        "# Now run the model on the test set and get results (loss and accuracy \n",
        "# both reported)\n",
        "testres = model.evaluate(X_test, y_test, verbose=0)\n",
        "print(testres)"
      ]
    },
    {
      "cell_type": "code",
      "execution_count": 16,
      "metadata": {
        "colab": {
          "base_uri": "https://localhost:8080/",
          "height": 319
        },
        "id": "C1EVYe1pSQR1",
        "outputId": "a8b485c8-e5cd-42fb-d3d3-cf4c78b01ba5"
      },
      "outputs": [
        {
          "output_type": "stream",
          "name": "stdout",
          "text": [
            "[7 2 1]\n",
            "['7' '2' '1']\n",
            "['7' '2' '1']\n"
          ]
        },
        {
          "output_type": "display_data",
          "data": {
            "text/plain": [
              "<Figure size 432x288 with 1 Axes>"
            ],
            "image/png": "[encoded data removed]"
          },
          "metadata": {
            "needs_background": "light"
          }
        }
      ],
      "source": [
        "# We can inspect the output class predictions\n",
        "y_pred = np.argmax(model.predict(X_test[:3]), axis=-1)  \n",
        "    # use the first three test cases as an example\n",
        "print(y_pred)   # predicted classes\n",
        "print(class_names[y_pred])   # names of these classes (prediction)\n",
        "print(class_names[y_test[:3]])   # names of true classes\n",
        "# Display an image of the first test sample\n",
        "plt.imshow(X_test[0].reshape((28,28)), cmap=\"gray\")\n",
        "plt.grid(False)"
      ]
    },
    {
      "cell_type": "code",
      "execution_count": 17,
      "metadata": {
        "colab": {
          "base_uri": "https://localhost:8080/"
        },
        "id": "X8LjvL9RSQR1",
        "outputId": "4a3c95c7-9d7c-4428-803d-2d4f9d8a82ed"
      },
      "outputs": [
        {
          "output_type": "stream",
          "name": "stdout",
          "text": [
            "[[0. 0. 0. 0. 0. 0. 0. 1. 0. 0.]\n",
            " [0. 0. 1. 0. 0. 0. 0. 0. 0. 0.]\n",
            " [0. 1. 0. 0. 0. 0. 0. 0. 0. 0.]]\n"
          ]
        }
      ],
      "source": [
        "# We can also look at the probability of predicting each class rather than the class with max probability\n",
        "# Each row has ten probabilities (one per class)\n",
        "y_proba = model.predict(X_test[:3])\n",
        "print(y_proba.round(2))  # round to two decimal places when printing"
      ]
    },
    {
      "cell_type": "markdown",
      "metadata": {
        "id": "IVuKnH7zSQR1"
      },
      "source": [
        "---\n",
        "---\n",
        "## 6. Build a small ResNet and run on same data\n",
        "\n"
      ]
    },
    {
      "cell_type": "code",
      "execution_count": 18,
      "metadata": {
        "id": "mtRcwDFESQR2"
      },
      "outputs": [],
      "source": [
        "# Implementation example of Geron: Hands On Machine Learning 2019, Chapter 14\n",
        "class ResidualUnit (keras.layers.Layer): \n",
        "    def __init__ (self, filters, strides=1, activation=\"relu\", **kwargs): \n",
        "        super(). __init__ (**kwargs) \n",
        "        self.activation = keras.activations.get(activation) \n",
        "        self.main_layers = [ \n",
        "            keras.layers.Conv2D(filters, 3, strides=strides, \n",
        "                                padding=\"same\", use_bias=False), \n",
        "            keras.layers.BatchNormalization(), \n",
        "            self.activation, \n",
        "            keras.layers.Conv2D(filters, 3, strides=1, \n",
        "                                padding=\"same\", use_bias=False), \n",
        "            keras.layers.BatchNormalization()] \n",
        "        self.skip_layers = [] \n",
        "        if strides > 1: \n",
        "            self.skip_layers = [ \n",
        "                keras.layers.Conv2D(filters, 1, strides=strides, \n",
        "                                    padding=\"same\", use_bias=False), \n",
        "                keras.layers.BatchNormalization()] \n",
        "            \n",
        "    def call(self, inputs): \n",
        "        Z = inputs \n",
        "        for layer in self.main_layers: \n",
        "            Z = layer(Z) \n",
        "        skip_Z = inputs \n",
        "        for layer in self.skip_layers: \n",
        "            skip_Z = layer(skip_Z) \n",
        "        return self.activation(Z + skip_Z)\n"
      ]
    },
    {
      "cell_type": "code",
      "execution_count": 19,
      "metadata": {
        "colab": {
          "base_uri": "https://localhost:8080/"
        },
        "id": "2lme4zAgSQR2",
        "outputId": "6223773e-885e-483c-e268-28e19d0f5c2a"
      },
      "outputs": [
        {
          "output_type": "stream",
          "name": "stdout",
          "text": [
            "Model: \"sequential_1\"\n",
            "_________________________________________________________________\n",
            " Layer (type)                Output Shape              Param #   \n",
            "=================================================================\n",
            " conv2d_3 (Conv2D)           (None, 14, 14, 32)        1568      \n",
            "                                                                 \n",
            " batch_normalization (BatchN  (None, 14, 14, 32)       128       \n",
            " ormalization)                                                   \n",
            "                                                                 \n",
            " activation (Activation)     (None, 14, 14, 32)        0         \n",
            "                                                                 \n",
            " max_pooling2d_2 (MaxPooling  (None, 7, 7, 32)         0         \n",
            " 2D)                                                             \n",
            "                                                                 \n",
            " residual_unit (ResidualUnit  (None, 7, 7, 32)         18688     \n",
            " )                                                               \n",
            "                                                                 \n",
            " residual_unit_1 (ResidualUn  (None, 4, 4, 64)         58112     \n",
            " it)                                                             \n",
            "                                                                 \n",
            " residual_unit_2 (ResidualUn  (None, 2, 2, 128)        230912    \n",
            " it)                                                             \n",
            "                                                                 \n",
            " global_average_pooling2d (G  (None, 128)              0         \n",
            " lobalAveragePooling2D)                                          \n",
            "                                                                 \n",
            " flatten_1 (Flatten)         (None, 128)               0         \n",
            "                                                                 \n",
            " dense_1 (Dense)             (None, 10)                1290      \n",
            "                                                                 \n",
            "=================================================================\n",
            "Total params: 310,698\n",
            "Trainable params: 309,354\n",
            "Non-trainable params: 1,344\n",
            "_________________________________________________________________\n"
          ]
        }
      ],
      "source": [
        "# Build a model manually, because we want to take layers into our own hands \n",
        "#(This can be wrapped into a function later for automation.)\n",
        "initial_filters=32\n",
        "residual_unit_filters=[32, 64, 128]\n",
        "\n",
        "model = keras.models.Sequential() \n",
        "model.add(keras.layers.Conv2D(initial_filters, 7, strides=2, \n",
        "                              input_shape=[28, 28, 1], \n",
        "                              padding=\"same\", use_bias=False))\n",
        "model.add(keras.layers.BatchNormalization()) \n",
        "model.add(keras.layers.Activation(actfn)) \n",
        "model.add(keras.layers.MaxPool2D(pool_size=3, strides=2, padding=\"same\")) \n",
        "\n",
        "prev_filters = initial_filters\n",
        "for filters in residual_unit_filters: \n",
        "    if filters == prev_filters: \n",
        "        strides = 1\n",
        "    else:\n",
        "        strides = 2\n",
        "    model.add(ResidualUnit(filters, strides=strides)) \n",
        "    prev_filters = filters \n",
        "    \n",
        "model.add(keras.layers.GlobalAvgPool2D()) \n",
        "model.add(keras.layers.Flatten()) \n",
        "model.add(keras.layers.Dense(10, activation=\"softmax\"))\n",
        "\n",
        "model.compile(loss=\"sparse_categorical_crossentropy\", \n",
        "              optimizer=optimizer(learning_rate=learningrate), \n",
        "              metrics=[\"accuracy\"])   \n",
        "\n",
        "# Output the model summary\n",
        "model.summary()"
      ]
    },
    {
      "cell_type": "code",
      "execution_count": 20,
      "metadata": {
        "colab": {
          "base_uri": "https://localhost:8080/"
        },
        "id": "x-ZLjyBKSQR2",
        "outputId": "08609f67-2ca7-453d-e2e6-056b8178cffd"
      },
      "outputs": [
        {
          "output_type": "stream",
          "name": "stdout",
          "text": [
            "Epoch 1/30\n",
            "94/94 [==============================] - 8s 58ms/step - loss: 0.4262 - accuracy: 0.8837 - val_loss: 2.0401 - val_accuracy: 0.2470\n",
            "Epoch 2/30\n",
            "94/94 [==============================] - 5s 56ms/step - loss: 0.1109 - accuracy: 0.9720 - val_loss: 1.8329 - val_accuracy: 0.2690\n",
            "Epoch 3/30\n",
            "94/94 [==============================] - 5s 58ms/step - loss: 0.0644 - accuracy: 0.9807 - val_loss: 1.2300 - val_accuracy: 0.5510\n",
            "Epoch 4/30\n",
            "94/94 [==============================] - 6s 68ms/step - loss: 0.0283 - accuracy: 0.9910 - val_loss: 0.4875 - val_accuracy: 0.8480\n",
            "Epoch 5/30\n",
            "94/94 [==============================] - 5s 58ms/step - loss: 0.0249 - accuracy: 0.9943 - val_loss: 0.2828 - val_accuracy: 0.9150\n",
            "Epoch 6/30\n",
            "94/94 [==============================] - 6s 59ms/step - loss: 0.0232 - accuracy: 0.9933 - val_loss: 0.1506 - val_accuracy: 0.9620\n",
            "Epoch 7/30\n",
            "94/94 [==============================] - 5s 58ms/step - loss: 0.0125 - accuracy: 0.9977 - val_loss: 0.1422 - val_accuracy: 0.9610\n",
            "Epoch 8/30\n",
            "94/94 [==============================] - 5s 57ms/step - loss: 0.0187 - accuracy: 0.9963 - val_loss: 0.1944 - val_accuracy: 0.9520\n",
            "Epoch 9/30\n",
            "94/94 [==============================] - 5s 57ms/step - loss: 0.0166 - accuracy: 0.9957 - val_loss: 0.1505 - val_accuracy: 0.9610\n",
            "Epoch 10/30\n",
            "94/94 [==============================] - 6s 59ms/step - loss: 0.0305 - accuracy: 0.9900 - val_loss: 0.2481 - val_accuracy: 0.9280\n",
            "Epoch 11/30\n",
            "94/94 [==============================] - 6s 59ms/step - loss: 0.0169 - accuracy: 0.9943 - val_loss: 0.1523 - val_accuracy: 0.9630\n",
            "Epoch 12/30\n",
            "94/94 [==============================] - 6s 59ms/step - loss: 0.0214 - accuracy: 0.9920 - val_loss: 0.1624 - val_accuracy: 0.9560\n",
            "Epoch 13/30\n",
            "94/94 [==============================] - 6s 59ms/step - loss: 0.0207 - accuracy: 0.9947 - val_loss: 0.3013 - val_accuracy: 0.9360\n",
            "Epoch 14/30\n",
            "94/94 [==============================] - 6s 62ms/step - loss: 0.0128 - accuracy: 0.9963 - val_loss: 0.4052 - val_accuracy: 0.9030\n",
            "Epoch 15/30\n",
            "94/94 [==============================] - 6s 59ms/step - loss: 0.0145 - accuracy: 0.9960 - val_loss: 0.1913 - val_accuracy: 0.9440\n",
            "Epoch 16/30\n",
            "94/94 [==============================] - 5s 56ms/step - loss: 0.0084 - accuracy: 0.9980 - val_loss: 0.1245 - val_accuracy: 0.9680\n",
            "Epoch 17/30\n",
            "94/94 [==============================] - 6s 60ms/step - loss: 0.0013 - accuracy: 1.0000 - val_loss: 0.1161 - val_accuracy: 0.9730\n",
            "Epoch 18/30\n",
            "94/94 [==============================] - 6s 66ms/step - loss: 6.2666e-04 - accuracy: 1.0000 - val_loss: 0.1101 - val_accuracy: 0.9730\n",
            "Epoch 19/30\n",
            "94/94 [==============================] - 5s 56ms/step - loss: 4.0196e-04 - accuracy: 1.0000 - val_loss: 0.1076 - val_accuracy: 0.9730\n",
            "Epoch 20/30\n",
            "94/94 [==============================] - 5s 58ms/step - loss: 3.6434e-04 - accuracy: 1.0000 - val_loss: 0.1100 - val_accuracy: 0.9760\n",
            "Epoch 21/30\n",
            "94/94 [==============================] - 6s 62ms/step - loss: 3.2610e-04 - accuracy: 1.0000 - val_loss: 0.1086 - val_accuracy: 0.9770\n",
            "Epoch 22/30\n",
            "94/94 [==============================] - 6s 62ms/step - loss: 2.6247e-04 - accuracy: 1.0000 - val_loss: 0.1110 - val_accuracy: 0.9740\n",
            "Epoch 23/30\n",
            "94/94 [==============================] - 6s 60ms/step - loss: 3.8667e-04 - accuracy: 1.0000 - val_loss: 0.1090 - val_accuracy: 0.9720\n",
            "Epoch 24/30\n",
            "94/94 [==============================] - 6s 59ms/step - loss: 2.0097e-04 - accuracy: 1.0000 - val_loss: 0.1087 - val_accuracy: 0.9760\n",
            "Epoch 25/30\n",
            "94/94 [==============================] - 6s 64ms/step - loss: 1.7405e-04 - accuracy: 1.0000 - val_loss: 0.1102 - val_accuracy: 0.9750\n",
            "Epoch 26/30\n",
            "94/94 [==============================] - 6s 63ms/step - loss: 1.5096e-04 - accuracy: 1.0000 - val_loss: 0.1107 - val_accuracy: 0.9750\n"
          ]
        }
      ],
      "source": [
        "# Fit and evaluate the model\n",
        "valacc, testacc, history, model = fit_evaluate(model, n_train, n_valid, \n",
        "                                               n_epochs, batch_size, callbacks=early_stopping_cb)"
      ]
    },
    {
      "cell_type": "code",
      "execution_count": 21,
      "metadata": {
        "colab": {
          "base_uri": "https://localhost:8080/",
          "height": 326
        },
        "id": "BrV8xq7KSQR2",
        "outputId": "fe700be5-0b07-4f37-c90c-3055ec363c45"
      },
      "outputs": [
        {
          "output_type": "display_data",
          "data": {
            "text/plain": [
              "<Figure size 576x360 with 1 Axes>"
            ],
            "image/png": "[encoded data removed]"
          },
          "metadata": {
            "needs_background": "light"
          }
        }
      ],
      "source": [
        "# Inspect the training process\n",
        "plot_history(history)"
      ]
    },
    {
      "cell_type": "code",
      "execution_count": 22,
      "metadata": {
        "colab": {
          "base_uri": "https://localhost:8080/"
        },
        "id": "JqFdELAsSQR3",
        "outputId": "1c496f36-931f-4f7f-fcec-92b2e3818f90"
      },
      "outputs": [
        {
          "output_type": "stream",
          "name": "stdout",
          "text": [
            "[0.0757901594042778, 0.9807000160217285]\n"
          ]
        }
      ],
      "source": [
        "# Now run the model on the test set and get results (loss and accuracy both reported)\n",
        "testres = model.evaluate(X_test, y_test, verbose=0)\n",
        "print(testres)"
      ]
    },
    {
      "cell_type": "code",
      "execution_count": 23,
      "metadata": {
        "colab": {
          "base_uri": "https://localhost:8080/",
          "height": 319
        },
        "id": "OsE8pE9KSQR3",
        "outputId": "cc30c119-bd26-4b58-de84-1f4d51b743d9"
      },
      "outputs": [
        {
          "output_type": "stream",
          "name": "stdout",
          "text": [
            "[7 2 1]\n",
            "['7' '2' '1']\n",
            "['7' '2' '1']\n"
          ]
        },
        {
          "output_type": "display_data",
          "data": {
            "text/plain": [
              "<Figure size 432x288 with 1 Axes>"
            ],
            "image/png": "[encoded data removed]"
          },
          "metadata": {
            "needs_background": "light"
          }
        }
      ],
      "source": [
        "# We can inspect the output class predictions\n",
        "y_pred = np.argmax(model.predict(X_test[:3]), axis=-1)  # use the first three test cases as an example\n",
        "print(y_pred)   # predicted classes\n",
        "print(class_names[y_pred])   # names of these classes (prediction)\n",
        "print(class_names[y_test[:3]])   # names of true classes\n",
        "# Display an image of the first test sample\n",
        "plt.imshow(X_test[0].reshape((28,28)), cmap=\"gray\")\n",
        "plt.grid(False)"
      ]
    },
    {
      "cell_type": "code",
      "execution_count": 24,
      "metadata": {
        "colab": {
          "base_uri": "https://localhost:8080/"
        },
        "id": "0wg7vBMqSQR3",
        "outputId": "2d7e4a7c-38a6-436f-f7b1-ccf6b9253ef6"
      },
      "outputs": [
        {
          "output_type": "stream",
          "name": "stdout",
          "text": [
            "[[0. 0. 0. 0. 0. 0. 0. 1. 0. 0.]\n",
            " [0. 0. 1. 0. 0. 0. 0. 0. 0. 0.]\n",
            " [0. 1. 0. 0. 0. 0. 0. 0. 0. 0.]]\n"
          ]
        }
      ],
      "source": [
        "# We can also look at the probability of predicting each class rather than the class with max probability\n",
        "# Each row has ten probabilities (one per class)\n",
        "y_proba = model.predict(X_test[:3])\n",
        "print(y_proba.round(2))  # round to two decimal places when printing"
      ]
    },
    {
      "cell_type": "markdown",
      "metadata": {
        "id": "aoaJdN0qSQR3"
      },
      "source": [
        "---\n",
        "---\n",
        "## 7. Your Task\n",
        "\n",
        "- Filter size: change the ResNet architecture to a series of 2 Residual Units with same filter size of 8, then 16, 32, 64, 128. Which one appears best?\n",
        "- Number of residual units: use 32 filters per RU, change the number of RUs from 1 to 2,3,4,5,6. Which one appears best?\n",
        "\n",
        "Write your answers and findings below:"
      ]
    },
    {
      "cell_type": "markdown",
      "metadata": {
        "id": "DftfMEO-SQR4"
      },
      "source": [
        "Answer:"
      ]
    }
  ],
  "metadata": {
    "kernelspec": {
      "display_name": "Python 3",
      "language": "python",
      "name": "python3"
    },
    "language_info": {
      "codemirror_mode": {
        "name": "ipython",
        "version": 3
      },
      "file_extension": ".py",
      "mimetype": "text/x-python",
      "name": "python",
      "nbconvert_exporter": "python",
      "pygments_lexer": "ipython3",
      "version": "3.7.6"
    },
    "colab": {
      "name": "workshop11-answer.ipynb",
      "provenance": []
    }
  },
  "nbformat": 4,
  "nbformat_minor": 0
}