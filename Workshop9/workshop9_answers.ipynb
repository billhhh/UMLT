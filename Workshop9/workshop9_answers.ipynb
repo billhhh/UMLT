{
  "cells": [
    {
      "cell_type": "markdown",
      "metadata": {
        "id": "UF2ZHQNZPO6x"
      },
      "source": [
        "# Workshop 9 - CNN\n",
        "\n",
        "Code for workshop 9.  This will use Keras (within tensorflow v2) to build a small CNN network. \n",
        "\n",
        "By Hu Wang."
      ]
    },
    {
      "cell_type": "code",
      "execution_count": 27,
      "metadata": {
        "id": "JxdcYZyUPO6z"
      },
      "outputs": [],
      "source": [
        "# Python ≥3.5 is required\n",
        "import sys\n",
        "assert sys.version_info >= (3, 5)\n",
        "\n",
        "# Scikit-Learn ≥0.20 is required\n",
        "import sklearn\n",
        "assert sklearn.__version__ >= \"0.20\"\n",
        "from sklearn.model_selection import train_test_split\n",
        "\n",
        "# Common imports\n",
        "import numpy as np\n",
        "import os, time\n",
        "import pandas as pd\n",
        "\n",
        "# Our new Deep Learning imports\n",
        "import tensorflow as tf\n",
        "from tensorflow import keras\n",
        "\n",
        "# To plot nice figures\n",
        "%matplotlib inline\n",
        "import matplotlib as mpl\n",
        "import matplotlib.pyplot as plt\n",
        "mpl.rc('axes', labelsize=14)\n",
        "mpl.rc('xtick', labelsize=12)\n",
        "mpl.rc('ytick', labelsize=12)\n",
        "import seaborn as sns; sns.set()"
      ]
    },
    {
      "cell_type": "code",
      "execution_count": 2,
      "metadata": {
        "colab": {
          "base_uri": "https://localhost:8080/"
        },
        "id": "v_Aoj2_lPO68",
        "outputId": "d0485895-b54f-425e-d991-737e670e9445"
      },
      "outputs": [
        {
          "output_type": "stream",
          "name": "stdout",
          "text": [
            "2.8.2\n",
            "2.8.0\n"
          ]
        }
      ],
      "source": [
        "# Check the versions are OK (both should be 2 or more)\n",
        "print(tf.__version__)\n",
        "print(keras.__version__)"
      ]
    },
    {
      "cell_type": "markdown",
      "metadata": {
        "id": "tGltMCbGXQrb"
      },
      "source": [
        "## Simple CNN Network Code with Keras\n",
        "\n",
        "We will use the keras version built into tensorflow version 2.\n",
        "It is remarkably simple for building, training and evaluating networks."
      ]
    },
    {
      "cell_type": "code",
      "source": [
        "model = keras.models.Sequential()\n",
        "model.add(keras.layers.Conv2D(filters=32, kernel_size=3, strides=1, activation=\"relu\", padding=\"same\",\n",
        "                               input_shape=[32, 32, 1]))\n",
        "model.add(keras.layers.MaxPooling2D(pool_size=2))\n",
        "model.add(keras.layers.Conv2D(filters=32, kernel_size=3, strides=1, padding=\"same\", activation=\"relu\"))\n",
        "model.add(keras.layers.AveragePooling2D(pool_size=2))\n",
        "model.add(keras.layers.Conv2D(filters=64, kernel_size=3, strides=1, padding=\"same\", activation=\"relu\"))\n",
        "model.add(keras.layers.AveragePooling2D(pool_size=2))\n",
        "model.add(keras.layers.Flatten())\n",
        "model.add(keras.layers.Dense(2, activation = \"softmax\"))"
      ],
      "metadata": {
        "id": "b0apV_iDXQrb"
      },
      "execution_count": null,
      "outputs": []
    },
    {
      "cell_type": "code",
      "source": [
        "model.summary()"
      ],
      "metadata": {
        "colab": {
          "base_uri": "https://localhost:8080/"
        },
        "outputId": "66a2deee-eafc-405f-aabd-145d3d8bc3f3",
        "id": "g0R4xcqJXQrc"
      },
      "execution_count": null,
      "outputs": [
        {
          "output_type": "stream",
          "name": "stdout",
          "text": [
            "Model: \"sequential\"\n",
            "_________________________________________________________________\n",
            " Layer (type)                Output Shape              Param #   \n",
            "=================================================================\n",
            " conv2d (Conv2D)             (None, 32, 32, 32)        320       \n",
            "                                                                 \n",
            " max_pooling2d (MaxPooling2D  (None, 16, 16, 32)       0         \n",
            " )                                                               \n",
            "                                                                 \n",
            " conv2d_1 (Conv2D)           (None, 16, 16, 32)        9248      \n",
            "                                                                 \n",
            " average_pooling2d (AverageP  (None, 8, 8, 32)         0         \n",
            " ooling2D)                                                       \n",
            "                                                                 \n",
            " conv2d_2 (Conv2D)           (None, 8, 8, 64)          18496     \n",
            "                                                                 \n",
            " average_pooling2d_1 (Averag  (None, 4, 4, 64)         0         \n",
            " ePooling2D)                                                     \n",
            "                                                                 \n",
            " flatten (Flatten)           (None, 1024)              0         \n",
            "                                                                 \n",
            " dense (Dense)               (None, 2)                 2050      \n",
            "                                                                 \n",
            "=================================================================\n",
            "Total params: 30,114\n",
            "Trainable params: 30,114\n",
            "Non-trainable params: 0\n",
            "_________________________________________________________________\n"
          ]
        }
      ]
    },
    {
      "cell_type": "markdown",
      "metadata": {
        "id": "CFlIXe3_PO68"
      },
      "source": [
        "## Load data\n",
        "We will use MNIST, which is a set of small images (28x28) that contain 10 different digital items - see below for class names and an example image."
      ]
    },
    {
      "cell_type": "code",
      "execution_count": 28,
      "metadata": {
        "id": "rgVWVGDrPO69"
      },
      "outputs": [],
      "source": [
        "# This is a built-in data for keras, so easily accessible\n",
        "mnist = keras.datasets.mnist\n",
        "(X_train_full, y_train_full), (X_test, y_test) = mnist.load_data()"
      ]
    },
    {
      "cell_type": "code",
      "execution_count": 29,
      "metadata": {
        "colab": {
          "base_uri": "https://localhost:8080/"
        },
        "id": "2lOpzqR3PO69",
        "outputId": "a38b6958-5f36-4062-fa4d-72a973469871"
      },
      "outputs": [
        {
          "output_type": "stream",
          "name": "stdout",
          "text": [
            "(60000, 28, 28)\n",
            "(10000, 28, 28)\n"
          ]
        }
      ],
      "source": [
        "# Let's see how big it is\n",
        "print(X_train_full.shape)\n",
        "print(X_test.shape)\n",
        "n_total = X_train_full.shape[0]"
      ]
    },
    {
      "cell_type": "code",
      "execution_count": 30,
      "metadata": {
        "id": "2rj1v4HJPO69"
      },
      "outputs": [],
      "source": [
        "# Reshape into 4D (as CNNs require each sample to be XSIZE x YSIZE x CHANNELS) and also do pre-processing (divide by 255)\n",
        "NSAMP,XSIZE,YSIZE = X_train_full.shape\n",
        "X_train_full = X_train_full.reshape([NSAMP,XSIZE,YSIZE,1])/255.0\n",
        "X_test = X_test.reshape([-1,XSIZE,YSIZE,1])/255.0\n",
        "X_train, X_valid, y_train, y_valid = train_test_split(X_train_full, y_train_full, test_size =0.2, stratify = y_train_full)"
      ]
    },
    {
      "cell_type": "code",
      "source": [
        "print(X_train_full.shape)\n",
        "print(X_test.shape)"
      ],
      "metadata": {
        "colab": {
          "base_uri": "https://localhost:8080/"
        },
        "id": "XX7q8NJLWvoX",
        "outputId": "a6766347-3c8d-41a5-c0ed-6fcb757c0fe0"
      },
      "execution_count": 33,
      "outputs": [
        {
          "output_type": "stream",
          "name": "stdout",
          "text": [
            "(60000, 28, 28, 1)\n",
            "(10000, 28, 28, 1)\n"
          ]
        }
      ]
    },
    {
      "cell_type": "code",
      "source": [
        "class_names = np.array([ \"0\", \"1\" , \"2\" , \"3\" , \"4\" , \"5\" , \"6\" , \n",
        "               \"7\" , \"8\" , \"9\" ])\n",
        "\n",
        "# Inspect some aspects of the data (in general, you should play around with the data \n",
        "#                                   more than this to get a feel for it)\n",
        "# Check that scaled types are appropriate\n",
        "print(X_train.dtype)\n",
        "print(X_valid.dtype)\n",
        "# Look at first item\n",
        "print(class_names[y_train[0]])\n",
        "plt.imshow(X_train[0,:,:,0], cmap='gray')\n",
        "plt.grid(False)\n",
        "plt.show()"
      ],
      "metadata": {
        "colab": {
          "base_uri": "https://localhost:8080/",
          "height": 319
        },
        "id": "2WagqLrQWjsM",
        "outputId": "e3ae1344-bd40-4f3a-f591-a73b244aa623"
      },
      "execution_count": 38,
      "outputs": [
        {
          "output_type": "stream",
          "name": "stdout",
          "text": [
            "float64\n",
            "float64\n",
            "7\n"
          ]
        },
        {
          "output_type": "display_data",
          "data": {
            "text/plain": [
              "<Figure size 432x288 with 1 Axes>"
            ],
            "image/png": "[encoded data removed]"
          },
          "metadata": {}
        }
      ]
    },
    {
      "cell_type": "code",
      "execution_count": 31,
      "metadata": {
        "colab": {
          "base_uri": "https://localhost:8080/",
          "height": 771
        },
        "id": "A86LWb9UPO6-",
        "outputId": "b86f96ad-d373-45df-f19f-3c080059e139"
      },
      "outputs": [
        {
          "output_type": "display_data",
          "data": {
            "text/plain": [
              "<Figure size 432x288 with 1 Axes>"
            ],
            "image/png": "[encoded data removed]"
          },
          "metadata": {}
        },
        {
          "output_type": "display_data",
          "data": {
            "text/plain": [
              "<Figure size 432x288 with 1 Axes>"
            ],
            "image/png": "[encoded data removed]"
          },
          "metadata": {}
        },
        {
          "output_type": "display_data",
          "data": {
            "text/plain": [
              "<Figure size 432x288 with 1 Axes>"
            ],
            "image/png": "[encoded data removed]"
          },
          "metadata": {}
        }
      ],
      "source": [
        "# Let's look at the distribution of labels in the training, validation and test sets\n",
        "plt.hist(y_train)\n",
        "plt.show()\n",
        "plt.hist(y_valid)\n",
        "plt.show()\n",
        "plt.hist(y_test)\n",
        "plt.show()"
      ]
    },
    {
      "cell_type": "markdown",
      "metadata": {
        "id": "zVjhYxSQThC-"
      },
      "source": [
        "## Simple CNN Network Code with Keras\n",
        "\n",
        "We will use the keras version built into tensorflow version 2.\n",
        "It is remarkably simple for building, training and evaluating networks."
      ]
    },
    {
      "cell_type": "code",
      "source": [
        "model = keras.models.Sequential()\n",
        "model.add(keras.layers.Conv2D(filters=32, kernel_size=3, strides=1, activation=\"relu\", padding=\"same\",\n",
        "                               input_shape=[28, 28, 1]))\n",
        "model.add(keras.layers.MaxPooling2D(pool_size=2))\n",
        "model.add(keras.layers.Conv2D(filters=32, kernel_size=3, strides=1, padding=\"same\", activation=\"relu\"))\n",
        "model.add(keras.layers.AveragePooling2D(pool_size=2))\n",
        "model.add(keras.layers.Conv2D(filters=64, kernel_size=3, strides=1, padding=\"same\", activation=\"relu\"))\n",
        "model.add(keras.layers.AveragePooling2D(pool_size=2))\n",
        "model.add(keras.layers.Flatten())\n",
        "model.add(keras.layers.Dense(10, activation = \"softmax\"))"
      ],
      "metadata": {
        "id": "vOakQUZ6UWkT"
      },
      "execution_count": 40,
      "outputs": []
    },
    {
      "cell_type": "code",
      "source": [
        "model.summary()"
      ],
      "metadata": {
        "colab": {
          "base_uri": "https://localhost:8080/"
        },
        "id": "V3cSDRYxUbQN",
        "outputId": "c711734a-fac8-4f3a-ccd1-4ed6b7ba5658"
      },
      "execution_count": 41,
      "outputs": [
        {
          "output_type": "stream",
          "name": "stdout",
          "text": [
            "Model: \"sequential_1\"\n",
            "_________________________________________________________________\n",
            " Layer (type)                Output Shape              Param #   \n",
            "=================================================================\n",
            " conv2d_3 (Conv2D)           (None, 28, 28, 32)        320       \n",
            "                                                                 \n",
            " max_pooling2d_1 (MaxPooling  (None, 14, 14, 32)       0         \n",
            " 2D)                                                             \n",
            "                                                                 \n",
            " conv2d_4 (Conv2D)           (None, 14, 14, 32)        9248      \n",
            "                                                                 \n",
            " average_pooling2d_2 (Averag  (None, 7, 7, 32)         0         \n",
            " ePooling2D)                                                     \n",
            "                                                                 \n",
            " conv2d_5 (Conv2D)           (None, 7, 7, 64)          18496     \n",
            "                                                                 \n",
            " average_pooling2d_3 (Averag  (None, 3, 3, 64)         0         \n",
            " ePooling2D)                                                     \n",
            "                                                                 \n",
            " flatten_1 (Flatten)         (None, 576)               0         \n",
            "                                                                 \n",
            " dense_1 (Dense)             (None, 10)                5770      \n",
            "                                                                 \n",
            "=================================================================\n",
            "Total params: 33,834\n",
            "Trainable params: 33,834\n",
            "Non-trainable params: 0\n",
            "_________________________________________________________________\n"
          ]
        }
      ]
    },
    {
      "cell_type": "code",
      "source": [
        "# model training\n",
        "model.compile(loss='sparse_categorical_crossentropy', optimizer=keras.optimizers.Adam(lr=0.01), metrics=[\"accuracy\"])\n",
        "history = model.fit(X_train, y_train, epochs=10, batch_size=1000, validation_data=(X_valid, y_valid))\n",
        "pd.DataFrame(history.history).plot(figsize=(8, 5))"
      ],
      "metadata": {
        "colab": {
          "base_uri": "https://localhost:8080/",
          "height": 713
        },
        "id": "zhzRG7IiXelI",
        "outputId": "bae75bd8-dc24-4ed2-c0f8-6bf3840a5a5f"
      },
      "execution_count": 43,
      "outputs": [
        {
          "output_type": "stream",
          "name": "stderr",
          "text": [
            "/usr/local/lib/python3.7/dist-packages/keras/optimizer_v2/adam.py:105: UserWarning: The `lr` argument is deprecated, use `learning_rate` instead.\n",
            "  super(Adam, self).__init__(name, **kwargs)\n"
          ]
        },
        {
          "output_type": "stream",
          "name": "stdout",
          "text": [
            "Epoch 1/10\n",
            "48/48 [==============================] - 46s 940ms/step - loss: 0.5496 - accuracy: 0.8397 - val_loss: 0.1399 - val_accuracy: 0.9562\n",
            "Epoch 2/10\n",
            "48/48 [==============================] - 45s 949ms/step - loss: 0.0978 - accuracy: 0.9704 - val_loss: 0.0870 - val_accuracy: 0.9721\n",
            "Epoch 3/10\n",
            "48/48 [==============================] - 46s 958ms/step - loss: 0.0649 - accuracy: 0.9799 - val_loss: 0.0598 - val_accuracy: 0.9817\n",
            "Epoch 4/10\n",
            "48/48 [==============================] - 45s 939ms/step - loss: 0.0503 - accuracy: 0.9837 - val_loss: 0.0508 - val_accuracy: 0.9851\n",
            "Epoch 5/10\n",
            "48/48 [==============================] - 45s 947ms/step - loss: 0.0395 - accuracy: 0.9876 - val_loss: 0.0504 - val_accuracy: 0.9838\n",
            "Epoch 6/10\n",
            "48/48 [==============================] - 45s 947ms/step - loss: 0.0366 - accuracy: 0.9882 - val_loss: 0.0451 - val_accuracy: 0.9862\n",
            "Epoch 7/10\n",
            "48/48 [==============================] - 45s 936ms/step - loss: 0.0321 - accuracy: 0.9901 - val_loss: 0.0513 - val_accuracy: 0.9842\n",
            "Epoch 8/10\n",
            "48/48 [==============================] - 45s 938ms/step - loss: 0.0270 - accuracy: 0.9917 - val_loss: 0.0389 - val_accuracy: 0.9880\n",
            "Epoch 9/10\n",
            "48/48 [==============================] - 45s 940ms/step - loss: 0.0203 - accuracy: 0.9934 - val_loss: 0.0428 - val_accuracy: 0.9873\n",
            "Epoch 10/10\n",
            "48/48 [==============================] - 45s 941ms/step - loss: 0.0221 - accuracy: 0.9929 - val_loss: 0.0417 - val_accuracy: 0.9866\n"
          ]
        },
        {
          "output_type": "execute_result",
          "data": {
            "text/plain": [
              "<matplotlib.axes._subplots.AxesSubplot at 0x7fc00bb9efd0>"
            ]
          },
          "metadata": {},
          "execution_count": 43
        },
        {
          "output_type": "display_data",
          "data": {
            "text/plain": [
              "<Figure size 576x360 with 1 Axes>"
            ],
            "image/png": "[encoded data removed]"
          },
          "metadata": {}
        }
      ]
    }
  ],
  "metadata": {
    "kernelspec": {
      "display_name": "Python 3",
      "language": "python",
      "name": "python3"
    },
    "language_info": {
      "codemirror_mode": {
        "name": "ipython",
        "version": 3
      },
      "file_extension": ".py",
      "mimetype": "text/x-python",
      "name": "python",
      "nbconvert_exporter": "python",
      "pygments_lexer": "ipython3",
      "version": "3.7.6"
    },
    "colab": {
      "name": "workshop9_answers.ipynb",
      "provenance": []
    }
  },
  "nbformat": 4,
  "nbformat_minor": 0
}