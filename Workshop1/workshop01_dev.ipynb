{
  "cells": [
    {
      "cell_type": "markdown",
      "metadata": {
        "id": "jRYYvLCWCch_"
      },
      "source": [
        "# Using Machine Learning Tools: Workshop 1\n",
        "\n",
        "**Chapter 1 – The Machine Learning landscape**\n",
        "\n",
        "This is a cut down version of the code accompanying Chapter 1 of \n",
        "_Hands-on Machine Learning with Scikit-Learn, Keras and TensorFlow, 2e_ by Aurelien Geron\n",
        "\n",
        "All code for the book is available at https://github.com/ageron/handson-ml2\n",
        "\n",
        "--------------------------------------------------------------------"
      ]
    },
    {
      "cell_type": "markdown",
      "metadata": {
        "id": "wJ7wOMINCciE"
      },
      "source": [
        "First check we have the required Python libraries.\n",
        "\n",
        "Although Python 2.x may work, it is deprecated so we strongly recommend you use Python 3 instead."
      ]
    },
    {
      "cell_type": "code",
      "execution_count": 116,
      "metadata": {
        "id": "o9Q0vrxnCciF"
      },
      "outputs": [],
      "source": [
        "# Python ≥3.5 is required\n",
        "import sys\n",
        "assert sys.version_info >= (3, 5)"
      ]
    },
    {
      "cell_type": "code",
      "execution_count": 117,
      "metadata": {
        "id": "PP7ar5w3CciH"
      },
      "outputs": [],
      "source": [
        "# Scikit-Learn ≥0.20 is required\n",
        "import sklearn\n",
        "assert sklearn.__version__ >= \"0.20\""
      ]
    },
    {
      "cell_type": "code",
      "execution_count": 118,
      "metadata": {
        "id": "w9TazVWoCciH"
      },
      "outputs": [],
      "source": [
        "# To plot pretty figures directly within Jupyter\n",
        "%matplotlib inline\n",
        "import matplotlib as mpl\n",
        "import matplotlib.pyplot as plt\n",
        "mpl.rc('axes', labelsize=14)\n",
        "mpl.rc('xtick', labelsize=12)\n",
        "mpl.rc('ytick', labelsize=12)"
      ]
    },
    {
      "cell_type": "code",
      "execution_count": 119,
      "metadata": {
        "id": "sv0oEHA8CciI"
      },
      "outputs": [],
      "source": [
        "# Code example\n",
        "import numpy as np\n",
        "import pandas as pd\n",
        "import sklearn.linear_model"
      ]
    },
    {
      "cell_type": "code",
      "execution_count": 120,
      "metadata": {
        "colab": {
          "base_uri": "https://localhost:8080/",
          "height": 337
        },
        "id": "VOgyFpVuCciJ",
        "outputId": "928a8666-67a0-4a0f-d915-dd8e111d9b1f"
      },
      "outputs": [
        {
          "output_type": "stream",
          "name": "stdout",
          "text": [
            "(29, 1)\n",
            "(29, 1)\n"
          ]
        },
        {
          "output_type": "execute_result",
          "data": {
            "text/plain": [
              "<matplotlib.axes._subplots.AxesSubplot at 0x7f99e9849a50>"
            ]
          },
          "metadata": {},
          "execution_count": 120
        },
        {
          "output_type": "display_data",
          "data": {
            "text/plain": [
              "<Figure size 432x288 with 1 Axes>"
            ],
            "image/png": "[encoded data removed]"
          },
          "metadata": {
            "needs_background": "light"
          }
        }
      ],
      "source": [
        "# Load the data using a pandas function\n",
        "country_stats = pd.read_csv(\"lifesat.csv\")\n",
        "\n",
        "X = np.c_[country_stats[\"GDP per capita\"]]\n",
        "y = np.c_[country_stats[\"Life satisfaction\"]]\n",
        "print(X.shape)\n",
        "print(y.shape)\n",
        "\n",
        "# Plot the data\n",
        "country_stats.plot(kind='scatter', x=\"GDP per capita\", y='Life satisfaction')"
      ]
    },
    {
      "cell_type": "code",
      "source": [
        "y[:5, 0]\n",
        "plt.bar(range(5),y[:5, 0])"
      ],
      "metadata": {
        "colab": {
          "base_uri": "https://localhost:8080/",
          "height": 285
        },
        "id": "ECHIlIySE8Hk",
        "outputId": "8e7c3ae4-aff6-4951-cc37-32b426dcbbd5"
      },
      "execution_count": 121,
      "outputs": [
        {
          "output_type": "execute_result",
          "data": {
            "text/plain": [
              "<BarContainer object of 5 artists>"
            ]
          },
          "metadata": {},
          "execution_count": 121
        },
        {
          "output_type": "display_data",
          "data": {
            "text/plain": [
              "<Figure size 432x288 with 1 Axes>"
            ],
            "image/png": "[encoded data removed]"
          },
          "metadata": {
            "needs_background": "light"
          }
        }
      ]
    },
    {
      "cell_type": "code",
      "execution_count": 122,
      "metadata": {
        "id": "wZqkxuL7CciK"
      },
      "outputs": [],
      "source": [
        "# Select a linear model\n",
        "model = sklearn.linear_model.LinearRegression()"
      ]
    },
    {
      "cell_type": "code",
      "execution_count": 123,
      "metadata": {
        "colab": {
          "base_uri": "https://localhost:8080/"
        },
        "id": "S97vDMceCciL",
        "outputId": "ea7fe3ee-e841-4ccc-9aa7-5c0bcf7b5463"
      },
      "outputs": [
        {
          "output_type": "execute_result",
          "data": {
            "text/plain": [
              "LinearRegression()"
            ]
          },
          "metadata": {},
          "execution_count": 123
        }
      ],
      "source": [
        "# Train the model\n",
        "model.fit(X, y)"
      ]
    },
    {
      "cell_type": "code",
      "execution_count": 124,
      "metadata": {
        "colab": {
          "base_uri": "https://localhost:8080/",
          "height": 303
        },
        "id": "NvgnOE83CciL",
        "outputId": "62787ca5-c36d-4ee8-b4f7-e529ac000701"
      },
      "outputs": [
        {
          "output_type": "execute_result",
          "data": {
            "text/plain": [
              "[<matplotlib.lines.Line2D at 0x7f99e92ff990>]"
            ]
          },
          "metadata": {},
          "execution_count": 124
        },
        {
          "output_type": "display_data",
          "data": {
            "text/plain": [
              "<Figure size 432x288 with 1 Axes>"
            ],
            "image/png": "[encoded data removed]"
          },
          "metadata": {
            "needs_background": "light"
          }
        }
      ],
      "source": [
        "# Visualise the model as a red line\n",
        "t0, t1 = model.intercept_[0], model.coef_[0][0]\n",
        "modelX = np.linspace(10000, 55000, 1000)\n",
        "plt.scatter(X, y)\n",
        "plt.xlabel('GDP per capita')\n",
        "plt.ylabel('Life satisfaction')\n",
        "plt.plot(modelX, t0 + t1*modelX, \"r\")"
      ]
    },
    {
      "cell_type": "code",
      "execution_count": 125,
      "metadata": {
        "colab": {
          "base_uri": "https://localhost:8080/"
        },
        "id": "U13jHQwcCciM",
        "outputId": "45d78345-add8-495e-e419-ac88ffad3f9f"
      },
      "outputs": [
        {
          "output_type": "stream",
          "name": "stdout",
          "text": [
            "[[5.96242338]]\n"
          ]
        }
      ],
      "source": [
        "# Make a prediction for Cyprus\n",
        "X_new = [[22587]]  # Cyprus' GDP per capita\n",
        "print(model.predict(X_new)) # outputs [[ 5.96242338]]"
      ]
    },
    {
      "cell_type": "code",
      "source": [
        "# testing current model, Load the data using a pandas function\n",
        "country_stats = pd.read_csv(\"lifesat-full.csv\")\n",
        "\n",
        "X_test = np.c_[country_stats[\"GDP per capita\"]][-7:]\n",
        "y_test = np.c_[country_stats[\"Life satisfaction\"]][-7:]\n",
        "print(X.shape)\n",
        "print(y.shape)\n",
        "\n",
        "# Plot the data\n",
        "plt.scatter(X_test,y_test,c = 'b',marker = 'o')\n",
        "\n",
        "# make prediction\n",
        "y_pred = model.predict(X_test)\n",
        "plt.scatter(X_test,y_pred,c = 'r',marker = 'o')\n",
        "\n",
        "# calculate error\n",
        "mse = ((y_test - y_pred)**2).mean()\n",
        "print(\"Error =\", mse)"
      ],
      "metadata": {
        "colab": {
          "base_uri": "https://localhost:8080/",
          "height": 320
        },
        "id": "cWsAuErtIv4u",
        "outputId": "6146da4b-1b22-463d-bd28-d2007a567dbd"
      },
      "execution_count": 126,
      "outputs": [
        {
          "output_type": "stream",
          "name": "stdout",
          "text": [
            "(29, 1)\n",
            "(29, 1)\n",
            "Error = 2.6818932487474614\n"
          ]
        },
        {
          "output_type": "display_data",
          "data": {
            "text/plain": [
              "<Figure size 432x288 with 1 Axes>"
            ],
            "image/png": "[encoded data removed]"
          },
          "metadata": {
            "needs_background": "light"
          }
        }
      ]
    },
    {
      "cell_type": "markdown",
      "metadata": {
        "id": "Wm7cGBhlCciN"
      },
      "source": [
        "<table align=\"left\">\n",
        "  <td>\n",
        "    <a target=\"_blank\" href=\"https://colab.research.google.com/github/ageron/handson-ml2/blob/master/01_the_machine_learning_landscape.ipynb\"><img src=\"https://www.tensorflow.org/images/colab_logo_32px.png\" />Run in Google Colab</a>\n",
        "  </td>\n",
        "</table>"
      ]
    }
  ],
  "metadata": {
    "kernelspec": {
      "display_name": "Python 3 (ipykernel)",
      "language": "python",
      "name": "python3"
    },
    "language_info": {
      "codemirror_mode": {
        "name": "ipython",
        "version": 3
      },
      "file_extension": ".py",
      "mimetype": "text/x-python",
      "name": "python",
      "nbconvert_exporter": "python",
      "pygments_lexer": "ipython3",
      "version": "3.9.7"
    },
    "nav_menu": {},
    "toc": {
      "navigate_menu": true,
      "number_sections": true,
      "sideBar": true,
      "threshold": 6,
      "toc_cell": false,
      "toc_section_display": "block",
      "toc_window_display": true
    },
    "toc_position": {
      "height": "616px",
      "left": "0px",
      "right": "20px",
      "top": "106px",
      "width": "213px"
    },
    "colab": {
      "name": "workshop01-dev.ipynb",
      "provenance": []
    }
  },
  "nbformat": 4,
  "nbformat_minor": 0
}