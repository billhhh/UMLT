{
  "cells": [
    {
      "cell_type": "markdown",
      "metadata": {
        "id": "UF2ZHQNZPO6x"
      },
      "source": [
        "# Workshop 8 - Introduction to Deep Neural Networks\n",
        "\n",
        "Code for workshop 8.  This will use Keras (within tensorflow v2) to build a small fully connected network. \n",
        "\n",
        "Modified by Hu Wang."
      ]
    },
    {
      "cell_type": "code",
      "execution_count": 25,
      "metadata": {
        "id": "JxdcYZyUPO6z"
      },
      "outputs": [],
      "source": [
        "# Python ≥3.5 is required\n",
        "import sys\n",
        "assert sys.version_info >= (3, 5)\n",
        "\n",
        "# Scikit-Learn ≥0.20 is required\n",
        "import sklearn\n",
        "assert sklearn.__version__ >= \"0.20\"\n",
        "\n",
        "# Common imports\n",
        "import numpy as np\n",
        "import os, time\n",
        "import pandas as pd\n",
        "\n",
        "# Our new Deep Learning imports\n",
        "import tensorflow as tf\n",
        "from tensorflow import keras\n",
        "\n",
        "# To plot nice figures\n",
        "%matplotlib inline\n",
        "import matplotlib as mpl\n",
        "import matplotlib.pyplot as plt\n",
        "mpl.rc('axes', labelsize=14)\n",
        "mpl.rc('xtick', labelsize=12)\n",
        "mpl.rc('ytick', labelsize=12)\n",
        "import seaborn as sns; sns.set()"
      ]
    },
    {
      "cell_type": "code",
      "execution_count": 24,
      "metadata": {
        "colab": {
          "base_uri": "https://localhost:8080/"
        },
        "id": "v_Aoj2_lPO68",
        "outputId": "abf276cf-212d-4168-eb33-755b52ec88bf"
      },
      "outputs": [
        {
          "output_type": "stream",
          "name": "stdout",
          "text": [
            "2.8.2\n",
            "2.8.0\n"
          ]
        }
      ],
      "source": [
        "# Check the versions are OK (both should be 2 or more)\n",
        "print(tf.__version__)\n",
        "print(keras.__version__)"
      ]
    },
    {
      "cell_type": "markdown",
      "metadata": {
        "id": "CFlIXe3_PO68"
      },
      "source": [
        "## Load data\n",
        "We will use fashion MNIST, which is a set of small images (28x28) that contain 10 different fashion items - see below for class names and an example image."
      ]
    },
    {
      "cell_type": "code",
      "execution_count": 3,
      "metadata": {
        "colab": {
          "base_uri": "https://localhost:8080/"
        },
        "id": "rgVWVGDrPO69",
        "outputId": "e45b0e26-51b1-4ff8-cdaf-9de67f630fb9"
      },
      "outputs": [
        {
          "output_type": "stream",
          "name": "stdout",
          "text": [
            "Downloading data from https://storage.googleapis.com/tensorflow/tf-keras-datasets/train-labels-idx1-ubyte.gz\n",
            "32768/29515 [=================================] - 0s 0us/step\n",
            "40960/29515 [=========================================] - 0s 0us/step\n",
            "Downloading data from https://storage.googleapis.com/tensorflow/tf-keras-datasets/train-images-idx3-ubyte.gz\n",
            "26427392/26421880 [==============================] - 0s 0us/step\n",
            "26435584/26421880 [==============================] - 0s 0us/step\n",
            "Downloading data from https://storage.googleapis.com/tensorflow/tf-keras-datasets/t10k-labels-idx1-ubyte.gz\n",
            "16384/5148 [===============================================================================================] - 0s 0us/step\n",
            "Downloading data from https://storage.googleapis.com/tensorflow/tf-keras-datasets/t10k-images-idx3-ubyte.gz\n",
            "4423680/4422102 [==============================] - 0s 0us/step\n",
            "4431872/4422102 [==============================] - 0s 0us/step\n"
          ]
        }
      ],
      "source": [
        "# This is a built-in data for keras, so easily accessible\n",
        "fashion_mnist = keras.datasets.fashion_mnist\n",
        "(X_train_full, y_train_full), (X_test, y_test) = fashion_mnist.load_data()"
      ]
    },
    {
      "cell_type": "code",
      "execution_count": 4,
      "metadata": {
        "colab": {
          "base_uri": "https://localhost:8080/"
        },
        "id": "2lOpzqR3PO69",
        "outputId": "412f9285-bd09-4b8c-bc9c-2cb9dea6fe06"
      },
      "outputs": [
        {
          "output_type": "stream",
          "name": "stdout",
          "text": [
            "(60000, 28, 28)\n",
            "(10000, 28, 28)\n"
          ]
        }
      ],
      "source": [
        "# Let's see how big it is\n",
        "print(X_train_full.shape)\n",
        "print(X_test.shape)\n",
        "n_total = X_train_full.shape[0]"
      ]
    },
    {
      "cell_type": "code",
      "execution_count": 5,
      "metadata": {
        "colab": {
          "base_uri": "https://localhost:8080/",
          "height": 319
        },
        "id": "2rj1v4HJPO69",
        "outputId": "85bb7e0c-3d54-4ef0-ed34-d76b97ffaeb3"
      },
      "outputs": [
        {
          "output_type": "stream",
          "name": "stdout",
          "text": [
            "float64\n",
            "float64\n",
            "Coat\n"
          ]
        },
        {
          "output_type": "display_data",
          "data": {
            "text/plain": [
              "<Figure size 432x288 with 1 Axes>"
            ],
            "image/png": "[encoded data removed]"
          },
          "metadata": {
            "needs_background": "light"
          }
        }
      ],
      "source": [
        "# Scale the data appropriately (it starts with max of 255, but we want max of 1)\n",
        "# We will do this \"by hand\" here, but we could build a pipeline scaler for this instead\n",
        "# We also split the training set given to us into training and validation subsets\n",
        "#   The value of 5000 samples as the size of the validation set is an arbitrary choice\n",
        "X_test = X_test/255.0\n",
        "X_valid, X_train = X_train_full[:5000]/255.0, X_train_full[5000:]/255.0 \n",
        "y_valid, y_train = y_train_full[:5000], y_train_full[5000:]\n",
        "class_names = np.array([ \"T-shirt/top\" , \"Trouser\" , \"Pullover\" , \"Dress\" , \"Coat\" , \"Sandal\" , \n",
        "               \"Shirt\" , \"Sneaker\" , \"Bag\" , \"Ankle boot\" ])\n",
        "\n",
        "# Inspect some aspects of the data (in general, you should play around with the data \n",
        "#                                   more than this to get a feel for it)\n",
        "# Check that scaled types are appropriate\n",
        "print(X_train.dtype)\n",
        "print(X_valid.dtype)\n",
        "# Look at first item\n",
        "print(class_names[y_train[0]])\n",
        "plt.imshow(X_train[0,:,:], cmap='gray')\n",
        "plt.grid(False)\n",
        "plt.show()"
      ]
    },
    {
      "cell_type": "code",
      "execution_count": 6,
      "metadata": {
        "colab": {
          "base_uri": "https://localhost:8080/",
          "height": 770
        },
        "id": "A86LWb9UPO6-",
        "outputId": "2855fff0-c990-4e1d-8595-687a6a54c853"
      },
      "outputs": [
        {
          "output_type": "display_data",
          "data": {
            "text/plain": [
              "<Figure size 432x288 with 1 Axes>"
            ],
            "image/png": "[encoded data removed]"
          },
          "metadata": {
            "needs_background": "light"
          }
        },
        {
          "output_type": "display_data",
          "data": {
            "text/plain": [
              "<Figure size 432x288 with 1 Axes>"
            ],
            "image/png": "[encoded data removed]"
          },
          "metadata": {
            "needs_background": "light"
          }
        },
        {
          "output_type": "display_data",
          "data": {
            "text/plain": [
              "<Figure size 432x288 with 1 Axes>"
            ],
            "image/png": "[encoded data removed]"
          },
          "metadata": {
            "needs_background": "light"
          }
        }
      ],
      "source": [
        "# Let's look at the distribution of labels in the training, validation and test sets\n",
        "plt.hist(y_train)\n",
        "plt.show()\n",
        "plt.hist(y_valid)\n",
        "plt.show()\n",
        "plt.hist(y_test)\n",
        "plt.show()"
      ]
    },
    {
      "cell_type": "markdown",
      "metadata": {
        "id": "h959dfGuPO6-"
      },
      "source": [
        "## Simple Neural Network Code with Keras\n",
        "\n",
        "We will use the keras version built into tensorflow version 2.\n",
        "It is remarkably simple for building, training and evaluating networks."
      ]
    },
    {
      "cell_type": "code",
      "execution_count": 7,
      "metadata": {
        "id": "Gf3YSdx-PO6-"
      },
      "outputs": [],
      "source": [
        "# This is *all* the code needed to define the network architecture\n",
        "#  1 input layer + 2 hidden layers of sizes 300 and 100 + 1 output layer\n",
        "model = keras.models.Sequential()   # This is a style of building networks - the easiest option\n",
        "model.add(keras.layers.Flatten(input_shape = [28 , 28]))   # our inputs are 28 x 28 arrays, so need to become 1D\n",
        "model.add(keras.layers.Dense(300, activation = \"relu\"))    # first hidden layer\n",
        "model.add(keras.layers.Dense(100, activation = \"relu\"))    # second hidden layer\n",
        "model.add(keras.layers.Dense(10, activation = \"softmax\"))  # output layer"
      ]
    },
    {
      "cell_type": "code",
      "execution_count": 8,
      "metadata": {
        "colab": {
          "base_uri": "https://localhost:8080/"
        },
        "id": "Q03rmUlRPO6_",
        "outputId": "5c051757-0db4-4d4e-b8c1-d15bd0519f46"
      },
      "outputs": [
        {
          "output_type": "stream",
          "name": "stdout",
          "text": [
            "Model: \"sequential\"\n",
            "_________________________________________________________________\n",
            " Layer (type)                Output Shape              Param #   \n",
            "=================================================================\n",
            " flatten (Flatten)           (None, 784)               0         \n",
            "                                                                 \n",
            " dense (Dense)               (None, 300)               235500    \n",
            "                                                                 \n",
            " dense_1 (Dense)             (None, 100)               30100     \n",
            "                                                                 \n",
            " dense_2 (Dense)             (None, 10)                1010      \n",
            "                                                                 \n",
            "=================================================================\n",
            "Total params: 266,610\n",
            "Trainable params: 266,610\n",
            "Non-trainable params: 0\n",
            "_________________________________________________________________\n"
          ]
        }
      ],
      "source": [
        "# Print out some info on the network - take note of the number of parameters (weights and biases)\n",
        "# Can you calculate the number of parameters yourself?\n",
        "model.summary()"
      ]
    },
    {
      "cell_type": "code",
      "execution_count": 9,
      "metadata": {
        "id": "eWuf7YBHPO6_"
      },
      "outputs": [],
      "source": [
        "# Couple the architecture definition to a loss function and optimiser (and other performance metrics)\n",
        "# Note that we use sparse_categorical_crossentropy because the entries in y_train are just numbers from 0 to 9\n",
        "# If y_train was encoded as one-hot vectors, then the appropriate loss would be categorical_crossentropy instead\n",
        "# We will use the SGD optimiser here, but Adam is another popular choice\n",
        "model.compile(loss=\"sparse_categorical_crossentropy\", optimizer=\"sgd\", metrics=[\"accuracy\"])"
      ]
    },
    {
      "cell_type": "code",
      "execution_count": 10,
      "metadata": {
        "colab": {
          "base_uri": "https://localhost:8080/"
        },
        "id": "pXY0wrdoPO6_",
        "outputId": "6741e13b-1c09-40fa-9c4f-6de129025a81"
      },
      "outputs": [
        {
          "output_type": "stream",
          "name": "stdout",
          "text": [
            "Epoch 1/5\n",
            "1719/1719 [==============================] - 12s 6ms/step - loss: 0.7066 - accuracy: 0.7679 - val_loss: 0.5477 - val_accuracy: 0.8138\n",
            "Epoch 2/5\n",
            "1719/1719 [==============================] - 7s 4ms/step - loss: 0.4879 - accuracy: 0.8312 - val_loss: 0.4565 - val_accuracy: 0.8442\n",
            "Epoch 3/5\n",
            "1719/1719 [==============================] - 7s 4ms/step - loss: 0.4450 - accuracy: 0.8446 - val_loss: 0.4481 - val_accuracy: 0.8472\n",
            "Epoch 4/5\n",
            "1719/1719 [==============================] - 7s 4ms/step - loss: 0.4180 - accuracy: 0.8546 - val_loss: 0.3974 - val_accuracy: 0.8616\n",
            "Epoch 5/5\n",
            "1719/1719 [==============================] - 7s 4ms/step - loss: 0.3971 - accuracy: 0.8602 - val_loss: 0.4002 - val_accuracy: 0.8640\n"
          ]
        }
      ],
      "source": [
        "# Now train (fit) the model, specifying appropriate data and number of epochs (small here to save time)\n",
        "# Save the history of metrics versus epochs - *always* keep this\n",
        "history = model.fit(X_train, y_train, epochs=5, validation_data=(X_valid, y_valid))"
      ]
    },
    {
      "cell_type": "code",
      "execution_count": 11,
      "metadata": {
        "colab": {
          "base_uri": "https://localhost:8080/",
          "height": 322
        },
        "id": "OK83JPtGPO6_",
        "outputId": "d3cc8a6c-deb2-4aaa-9976-f79ebe3f2942"
      },
      "outputs": [
        {
          "output_type": "display_data",
          "data": {
            "text/plain": [
              "<Figure size 576x360 with 1 Axes>"
            ],
            "image/png": "[encoded data removed]"
          },
          "metadata": {
            "needs_background": "light"
          }
        }
      ],
      "source": [
        "# Simple way to plot the history information (see later for more detail)\n",
        "pd.DataFrame(history.history).plot(figsize=(8 , 5))\n",
        "plt.show()"
      ]
    },
    {
      "cell_type": "code",
      "execution_count": 12,
      "metadata": {
        "colab": {
          "base_uri": "https://localhost:8080/"
        },
        "id": "bHQ55nx-PO7A",
        "outputId": "460c2c54-7d9b-42e3-8339-c4266f5004d3"
      },
      "outputs": [
        {
          "output_type": "stream",
          "name": "stdout",
          "text": [
            "[0.4353877007961273, 0.8461999893188477]\n"
          ]
        }
      ],
      "source": [
        "# Now run the model on the test set and get results (loss and accuracy both reported)\n",
        "testres = model.evaluate(X_test, y_test, verbose=0)\n",
        "print(testres)"
      ]
    },
    {
      "cell_type": "code",
      "execution_count": 16,
      "metadata": {
        "colab": {
          "base_uri": "https://localhost:8080/",
          "height": 319
        },
        "id": "hDNXop8QPO7A",
        "outputId": "f17470be-761a-4be7-8bdc-1baf9f179b36"
      },
      "outputs": [
        {
          "output_type": "stream",
          "name": "stdout",
          "text": [
            "[9 2 1]\n",
            "['Ankle boot' 'Pullover' 'Trouser']\n",
            "['Ankle boot' 'Pullover' 'Trouser']\n"
          ]
        },
        {
          "output_type": "display_data",
          "data": {
            "text/plain": [
              "<Figure size 432x288 with 1 Axes>"
            ],
            "image/png": "[encoded data removed]"
          },
          "metadata": {
            "needs_background": "light"
          }
        }
      ],
      "source": [
        "# We can inspect the output class predictions\n",
        "# y_pred = model.predict_classes(X_test[:3])  # use the first three test cases as an example\n",
        "predict_x = model.predict(X_test[:3])  # bug fixed\n",
        "y_pred=np.argmax(predict_x,axis=1)\n",
        "print(y_pred)   # predicted classes\n",
        "print(class_names[y_pred])   # names of these classes (prediction)\n",
        "print(class_names[y_test[:3]])   # names of true classes\n",
        "# Display an image of the first test sample\n",
        "plt.imshow(X_test[0].reshape((28,28)), cmap=\"gray\")\n",
        "plt.grid(False)"
      ]
    },
    {
      "cell_type": "code",
      "execution_count": 17,
      "metadata": {
        "colab": {
          "base_uri": "https://localhost:8080/"
        },
        "id": "4tzqPACxPO7A",
        "outputId": "20c5498c-65af-4648-f11b-8352cf7ba424"
      },
      "outputs": [
        {
          "output_type": "stream",
          "name": "stdout",
          "text": [
            "[[0.   0.   0.   0.   0.   0.05 0.   0.05 0.01 0.89]\n",
            " [0.   0.   0.96 0.   0.01 0.   0.03 0.   0.   0.  ]\n",
            " [0.   1.   0.   0.   0.   0.   0.   0.   0.   0.  ]]\n"
          ]
        }
      ],
      "source": [
        "# We can also look at the probability of predicting each class rather than the class with max probability\n",
        "# Each row has ten probabilities (one per class)\n",
        "y_proba = model.predict(X_test[:3])\n",
        "print(y_proba.round(2))  # round to two decimal places when printing"
      ]
    },
    {
      "cell_type": "markdown",
      "metadata": {
        "id": "zMI5sfefPO7A"
      },
      "source": [
        "# Now for a little more detail\n",
        "\n",
        "For example, why make these particular choices for architecture and parameters.\n",
        "\n",
        "We will set up some more general code so that we can build and compare a range of networks."
      ]
    },
    {
      "cell_type": "code",
      "execution_count": 18,
      "metadata": {
        "id": "CySeuAwGPO7B"
      },
      "outputs": [],
      "source": [
        "# More general settings\n",
        "# Let's allow the size of the training and validation sets to change\n",
        "#n_train = n_total   # as above\n",
        "#n_valid = 5000      # as above\n",
        "n_train = 5000   # smaller set\n",
        "n_valid = 1000\n",
        "# Define the number and size of hidden layers\n",
        "#hiddensizes = [300, 100]  # this was what we did above\n",
        "hiddensizes = [100]   # instead, try a simpler one (only one layer)\n",
        "# Define the activation function to be used by hidden layers\n",
        "actfn = \"relu\"\n",
        "# Optimiser and learning rate\n",
        "optimizer = keras.optimizers.SGD\n",
        "learningrate = 0.01\n",
        "# Set size of batch and number of epochs\n",
        "batch_size = 50\n",
        "n_epochs = 20"
      ]
    },
    {
      "cell_type": "code",
      "execution_count": 19,
      "metadata": {
        "colab": {
          "base_uri": "https://localhost:8080/",
          "height": 772
        },
        "id": "wi5Uagu0PO7B",
        "outputId": "48f3c4cb-6060-4562-f651-ee4a0045b92c"
      },
      "outputs": [
        {
          "output_type": "display_data",
          "data": {
            "text/plain": [
              "<Figure size 432x288 with 1 Axes>"
            ],
            "image/png": "[encoded data removed]"
          },
          "metadata": {
            "needs_background": "light"
          }
        },
        {
          "output_type": "display_data",
          "data": {
            "text/plain": [
              "<Figure size 432x288 with 1 Axes>"
            ],
            "image/png": "[encoded data removed]"
          },
          "metadata": {
            "needs_background": "light"
          }
        },
        {
          "output_type": "display_data",
          "data": {
            "text/plain": [
              "<Figure size 432x288 with 1 Axes>"
            ],
            "image/png": "[encoded data removed]"
          },
          "metadata": {
            "needs_background": "light"
          }
        }
      ],
      "source": [
        "# Let's look at the distribution of labels in the training, validation and test sets we will use\n",
        "plt.hist(y_train[:n_train])\n",
        "plt.show()\n",
        "plt.hist(y_valid[:n_valid])\n",
        "plt.show()\n",
        "plt.hist(y_test)\n",
        "plt.show()"
      ]
    },
    {
      "cell_type": "code",
      "execution_count": 20,
      "metadata": {
        "id": "1pXh1SeAPO7B"
      },
      "outputs": [],
      "source": [
        "# Build a more general model using various settings\n",
        "def model_factory(hiddensizes, actfn, optimizer, learningrate):\n",
        "    model = keras.models.Sequential()\n",
        "    model.add(keras.layers.Flatten(input_shape = [28 , 28]))    # always have same sized inputs\n",
        "    for n in hiddensizes:\n",
        "        model.add(keras.layers.Dense(n, activation = actfn))\n",
        "    model.add(keras.layers.Dense(10, activation = \"softmax\"))   # always have 10 classes\n",
        "    model.compile(loss=\"sparse_categorical_crossentropy\", optimizer=optimizer(lr=learningrate), metrics=[\"accuracy\"])\n",
        "    return model"
      ]
    },
    {
      "cell_type": "code",
      "execution_count": 32,
      "metadata": {
        "colab": {
          "base_uri": "https://localhost:8080/"
        },
        "id": "f-d1dYnLPO7B",
        "outputId": "24c57ed7-0582-4c15-9d50-3174630f982b"
      },
      "outputs": [
        {
          "output_type": "stream",
          "name": "stdout",
          "text": [
            "Model: \"sequential_5\"\n",
            "_________________________________________________________________\n",
            " Layer (type)                Output Shape              Param #   \n",
            "=================================================================\n",
            " flatten_5 (Flatten)         (None, 784)               0         \n",
            "                                                                 \n",
            " dense_11 (Dense)            (None, 100)               78500     \n",
            "                                                                 \n",
            " dense_12 (Dense)            (None, 10)                1010      \n",
            "                                                                 \n",
            "=================================================================\n",
            "Total params: 79,510\n",
            "Trainable params: 79,510\n",
            "Non-trainable params: 0\n",
            "_________________________________________________________________\n",
            "Epoch 1/20\n"
          ]
        },
        {
          "output_type": "stream",
          "name": "stderr",
          "text": [
            "/usr/local/lib/python3.7/dist-packages/keras/optimizer_v2/gradient_descent.py:102: UserWarning: The `lr` argument is deprecated, use `learning_rate` instead.\n",
            "  super(SGD, self).__init__(name, **kwargs)\n"
          ]
        },
        {
          "output_type": "stream",
          "name": "stdout",
          "text": [
            "157/157 [==============================] - 1s 4ms/step - loss: 1.5216 - accuracy: 0.5470 - val_loss: 1.1384 - val_accuracy: 0.6110\n",
            "Epoch 2/20\n",
            "157/157 [==============================] - 0s 3ms/step - loss: 0.9867 - accuracy: 0.6808 - val_loss: 0.8829 - val_accuracy: 0.7320\n",
            "Epoch 3/20\n",
            "157/157 [==============================] - 0s 3ms/step - loss: 0.8364 - accuracy: 0.7196 - val_loss: 0.7976 - val_accuracy: 0.7430\n",
            "Epoch 4/20\n",
            "157/157 [==============================] - 0s 3ms/step - loss: 0.7597 - accuracy: 0.7444 - val_loss: 0.7326 - val_accuracy: 0.7550\n",
            "Epoch 5/20\n",
            "157/157 [==============================] - 0s 3ms/step - loss: 0.7044 - accuracy: 0.7720 - val_loss: 0.6786 - val_accuracy: 0.7840\n",
            "Epoch 6/20\n",
            "157/157 [==============================] - 0s 3ms/step - loss: 0.6643 - accuracy: 0.7806 - val_loss: 0.6482 - val_accuracy: 0.7980\n",
            "Epoch 7/20\n",
            "157/157 [==============================] - 0s 3ms/step - loss: 0.6334 - accuracy: 0.7898 - val_loss: 0.6271 - val_accuracy: 0.8080\n",
            "Epoch 8/20\n",
            "157/157 [==============================] - 0s 3ms/step - loss: 0.6081 - accuracy: 0.8040 - val_loss: 0.6167 - val_accuracy: 0.7980\n",
            "Epoch 9/20\n",
            "157/157 [==============================] - 0s 3ms/step - loss: 0.5865 - accuracy: 0.8102 - val_loss: 0.5939 - val_accuracy: 0.8120\n",
            "Epoch 10/20\n",
            "157/157 [==============================] - 0s 3ms/step - loss: 0.5706 - accuracy: 0.8084 - val_loss: 0.5650 - val_accuracy: 0.8170\n",
            "Epoch 11/20\n",
            "157/157 [==============================] - 0s 3ms/step - loss: 0.5515 - accuracy: 0.8128 - val_loss: 0.5717 - val_accuracy: 0.8140\n",
            "Epoch 12/20\n",
            "157/157 [==============================] - 0s 2ms/step - loss: 0.5383 - accuracy: 0.8182 - val_loss: 0.5649 - val_accuracy: 0.8110\n",
            "Epoch 13/20\n",
            "157/157 [==============================] - 0s 3ms/step - loss: 0.5276 - accuracy: 0.8218 - val_loss: 0.5652 - val_accuracy: 0.8060\n",
            "Epoch 14/20\n",
            "157/157 [==============================] - 0s 3ms/step - loss: 0.5162 - accuracy: 0.8250 - val_loss: 0.5351 - val_accuracy: 0.8260\n",
            "Epoch 15/20\n",
            "157/157 [==============================] - 0s 3ms/step - loss: 0.5055 - accuracy: 0.8298 - val_loss: 0.5334 - val_accuracy: 0.8240\n",
            "Epoch 16/20\n",
            "157/157 [==============================] - 0s 3ms/step - loss: 0.4958 - accuracy: 0.8264 - val_loss: 0.5355 - val_accuracy: 0.8280\n",
            "Epoch 17/20\n",
            "157/157 [==============================] - 0s 3ms/step - loss: 0.4882 - accuracy: 0.8334 - val_loss: 0.5108 - val_accuracy: 0.8270\n",
            "Epoch 18/20\n",
            "157/157 [==============================] - 0s 2ms/step - loss: 0.4770 - accuracy: 0.8374 - val_loss: 0.5082 - val_accuracy: 0.8360\n",
            "Epoch 19/20\n",
            "157/157 [==============================] - 0s 3ms/step - loss: 0.4719 - accuracy: 0.8364 - val_loss: 0.5158 - val_accuracy: 0.8230\n",
            "Epoch 20/20\n",
            "157/157 [==============================] - 0s 3ms/step - loss: 0.4652 - accuracy: 0.8430 - val_loss: 0.5439 - val_accuracy: 0.8030\n"
          ]
        }
      ],
      "source": [
        "# Create our model\n",
        "model = model_factory(hiddensizes, actfn, optimizer, learningrate)\n",
        "# Show summary info\n",
        "model.summary()\n",
        "# Train it with only n_train training samples and n_valid validation samples, and other settings specified above\n",
        "history = model.fit(X_train[:n_train], y_train[:n_train], epochs=n_epochs, validation_data=(X_valid[:n_valid], y_valid[:n_valid]))"
      ]
    },
    {
      "cell_type": "code",
      "execution_count": 33,
      "metadata": {
        "colab": {
          "base_uri": "https://localhost:8080/",
          "height": 326
        },
        "id": "BBdnUhITPO7C",
        "outputId": "2a01144d-a294-4332-f2ba-c65038f912f0"
      },
      "outputs": [
        {
          "output_type": "display_data",
          "data": {
            "text/plain": [
              "<Figure size 576x360 with 1 Axes>"
            ],
            "image/png": "[encoded data removed]"
          },
          "metadata": {}
        }
      ],
      "source": [
        "# Plot the results (shifting validation curves appropriately)\n",
        "plt.figure(figsize=(8,5))\n",
        "plt.plot(np.arange(0,n_epochs),history.history['accuracy'], color='orange')\n",
        "plt.plot(np.arange(0,n_epochs),history.history['loss'],'b')\n",
        "plt.plot(np.arange(0,n_epochs)+0.5,history.history['val_accuracy'],'r')  # offset both validation curves\n",
        "plt.plot(np.arange(0,n_epochs)+0.5,history.history['val_loss'],'g')\n",
        "plt.legend(['Train Acc','Train Loss','Val Acc','Val Loss'])\n",
        "plt.grid(True)\n",
        "plt.gca().set_ylim(0, 1) # set the vertical range to [0-1] \n",
        "plt.show() "
      ]
    },
    {
      "cell_type": "code",
      "execution_count": 34,
      "metadata": {
        "colab": {
          "base_uri": "https://localhost:8080/"
        },
        "id": "A2CrhdaHPO7C",
        "outputId": "89dd21a5-47d4-41ca-9ecb-a057ce4f13b2"
      },
      "outputs": [
        {
          "output_type": "stream",
          "name": "stdout",
          "text": [
            "Best validation accuracy = 0.836\n",
            "Accuracy on test set = 0.786\n"
          ]
        }
      ],
      "source": [
        "# Display best accuracy on validation set\n",
        "max_val_acc = np.max(history.history['val_accuracy'])\n",
        "print(f'Best validation accuracy = {max_val_acc:.3f}')   # NB: .3f displays 3 decimal places\n",
        "# Evaluate on testset\n",
        "testres = model.evaluate(X_test, y_test, verbose=0)\n",
        "print(f'Accuracy on test set = {testres[1]:.3f}')"
      ]
    },
    {
      "cell_type": "code",
      "execution_count": 37,
      "metadata": {
        "id": "jOpiWp8EPO7C"
      },
      "outputs": [],
      "source": [
        "def do_all(hiddensizes, actfn, optimizer, learningrate, n_train, n_valid, n_epochs, batch_size):\n",
        "    # Create our model\n",
        "    model = model_factory(hiddensizes, actfn, optimizer, learningrate)\n",
        "    # Train it\n",
        "    history = model.fit(X_train, y_train, epochs=n_epochs, validation_data=(X_valid, y_valid))\n",
        "    max_val_acc = np.max(history.history['val_accuracy'])\n",
        "    testres = model.evaluate(X_test, y_test, verbose=0)\n",
        "    return (max_val_acc, testres[1], history)"
      ]
    },
    {
      "cell_type": "code",
      "execution_count": 38,
      "metadata": {
        "id": "thFcdjmGPO7C"
      },
      "outputs": [],
      "source": [
        "def random_model():\n",
        "    # Make some random selections to see how performance varies with network size and training set size\n",
        "    lsize=[10,100,1000]   # just have three options for layer sizes\n",
        "    # start with three candidate layers\n",
        "    hiddensizes = [lsize[np.random.randint(0,3)], lsize[np.random.randint(0,3)], lsize[np.random.randint(0,3)]]\n",
        "    # then keep between 1 and 3 layers\n",
        "    hiddensizes = hiddensizes[:np.random.randint(1,4)]\n",
        "    n_train = np.random.randint(1,10)*10**np.random.randint(2,4)  # numbers between 100 and 9000 (logarithmically selected)\n",
        "    n_epochs = 10  # to speed things up a bit (not recommended for full evaluation)\n",
        "    # Now build, run and report\n",
        "    valacc, testacc, history = do_all(hiddensizes, actfn, optimizer, learningrate, n_train, n_valid, n_epochs, batch_size)\n",
        "    print(f'Settings are: {(hiddensizes, actfn, optimizer, learningrate, n_train, n_valid, n_epochs, batch_size)}')\n",
        "    print(f'Validation accuracy = {valacc:.3f} and Test accuracy = {testacc:.3f}')\n",
        "    retval = [hiddensizes, n_train, valacc, testacc]\n",
        "    return retval"
      ]
    },
    {
      "cell_type": "code",
      "execution_count": 39,
      "metadata": {
        "colab": {
          "base_uri": "https://localhost:8080/"
        },
        "id": "zqGsADPnPO7C",
        "outputId": "463dc586-6cb7-4d71-fa73-3825dd77633b"
      },
      "outputs": [
        {
          "output_type": "stream",
          "name": "stdout",
          "text": [
            "Epoch 1/10\n"
          ]
        },
        {
          "output_type": "stream",
          "name": "stderr",
          "text": [
            "/usr/local/lib/python3.7/dist-packages/keras/optimizer_v2/gradient_descent.py:102: UserWarning: The `lr` argument is deprecated, use `learning_rate` instead.\n",
            "  super(SGD, self).__init__(name, **kwargs)\n"
          ]
        },
        {
          "output_type": "stream",
          "name": "stdout",
          "text": [
            "1719/1719 [==============================] - 5s 2ms/step - loss: 1.0689 - accuracy: 0.6105 - val_loss: 0.7233 - val_accuracy: 0.7274\n",
            "Epoch 2/10\n",
            "1719/1719 [==============================] - 3s 2ms/step - loss: 0.6538 - accuracy: 0.7619 - val_loss: 0.5938 - val_accuracy: 0.7970\n",
            "Epoch 3/10\n",
            "1719/1719 [==============================] - 3s 2ms/step - loss: 0.5621 - accuracy: 0.7996 - val_loss: 0.5174 - val_accuracy: 0.8238\n",
            "Epoch 4/10\n",
            "1719/1719 [==============================] - 3s 2ms/step - loss: 0.5188 - accuracy: 0.8164 - val_loss: 0.5003 - val_accuracy: 0.8268\n",
            "Epoch 5/10\n",
            "1719/1719 [==============================] - 3s 2ms/step - loss: 0.4918 - accuracy: 0.8254 - val_loss: 0.4775 - val_accuracy: 0.8352\n",
            "Epoch 6/10\n",
            "1719/1719 [==============================] - 3s 2ms/step - loss: 0.4732 - accuracy: 0.8326 - val_loss: 0.4780 - val_accuracy: 0.8372\n",
            "Epoch 7/10\n",
            "1719/1719 [==============================] - 3s 2ms/step - loss: 0.4597 - accuracy: 0.8386 - val_loss: 0.4423 - val_accuracy: 0.8480\n",
            "Epoch 8/10\n",
            "1719/1719 [==============================] - 3s 2ms/step - loss: 0.4477 - accuracy: 0.8417 - val_loss: 0.4409 - val_accuracy: 0.8472\n",
            "Epoch 9/10\n",
            "1719/1719 [==============================] - 3s 2ms/step - loss: 0.4384 - accuracy: 0.8461 - val_loss: 0.4529 - val_accuracy: 0.8508\n",
            "Epoch 10/10\n",
            "1719/1719 [==============================] - 3s 2ms/step - loss: 0.4301 - accuracy: 0.8484 - val_loss: 0.4179 - val_accuracy: 0.8596\n",
            "Settings are: ([10, 10], 'relu', <class 'keras.optimizer_v2.gradient_descent.SGD'>, 0.01, 500, 1000, 10, 50)\n",
            "Validation accuracy = 0.860 and Test accuracy = 0.838\n"
          ]
        }
      ],
      "source": [
        "res = random_model()"
      ]
    },
    {
      "cell_type": "code",
      "execution_count": 40,
      "metadata": {
        "colab": {
          "base_uri": "https://localhost:8080/"
        },
        "id": "1FxHMlI2PO7D",
        "outputId": "cadafec6-acc6-4e2f-cb6e-a8b93d13e51f"
      },
      "outputs": [
        {
          "output_type": "stream",
          "name": "stdout",
          "text": [
            "[[10, 10], 500, 0.8596000075340271, 0.838100016117096]\n"
          ]
        }
      ],
      "source": [
        "print(res)"
      ]
    }
  ],
  "metadata": {
    "kernelspec": {
      "display_name": "Python 3",
      "language": "python",
      "name": "python3"
    },
    "language_info": {
      "codemirror_mode": {
        "name": "ipython",
        "version": 3
      },
      "file_extension": ".py",
      "mimetype": "text/x-python",
      "name": "python",
      "nbconvert_exporter": "python",
      "pygments_lexer": "ipython3",
      "version": "3.7.6"
    },
    "colab": {
      "name": "workshop8_answers.ipynb",
      "provenance": []
    }
  },
  "nbformat": 4,
  "nbformat_minor": 0
}